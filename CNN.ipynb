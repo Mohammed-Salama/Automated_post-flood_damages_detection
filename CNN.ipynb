{
 "cells": [
  {
   "cell_type": "code",
   "execution_count": 44,
   "metadata": {},
   "outputs": [],
   "source": [
    "import importlib\n",
    "import utils\n",
    "importlib.reload(utils)\n",
    "from utils import load_data, CLASSES, IMG_SIZE, data_augmentation, evaluate_model\n",
    "import numpy as np\n",
    "from sklearn.model_selection import train_test_split\n",
    "from tensorflow.keras.models import Sequential\n",
    "from tensorflow.keras.regularizers import l2\n",
    "from tensorflow.keras.layers import (\n",
    "    Conv2D,\n",
    "    AveragePooling2D,\n",
    "    Flatten,\n",
    "    Dense,\n",
    "    Activation,\n",
    "    MaxPool2D,\n",
    "    BatchNormalization,\n",
    "    Dropout,\n",
    ")\n",
    "from tensorflow.keras.utils import to_categorical\n",
    "from sklearn.metrics import confusion_matrix, f1_score\n",
    "import seaborn as sns\n",
    "import pandas as pd\n",
    "import matplotlib.pyplot as plt\n"
   ]
  },
  {
   "attachments": {},
   "cell_type": "markdown",
   "metadata": {},
   "source": [
    "## Reading Data"
   ]
  },
  {
   "cell_type": "code",
   "execution_count": 45,
   "metadata": {},
   "outputs": [],
   "source": [
    "data, labels = load_data(\"./Dataset\")"
   ]
  },
  {
   "attachments": {},
   "cell_type": "markdown",
   "metadata": {},
   "source": [
    "## Splitting Data"
   ]
  },
  {
   "cell_type": "code",
   "execution_count": 46,
   "metadata": {},
   "outputs": [],
   "source": [
    "X_train, X_val, y_train, y_val   = train_test_split(data, labels,     test_size=0.2, random_state=42)\n",
    "X_train, X_test, y_train, y_test = train_test_split(X_train, y_train, test_size=0.1, random_state=42)\n",
    "\n",
    "X_train = np.array(X_train)\n",
    "X_val   = np.array(X_val)\n",
    "X_test  = np.array(X_test)\n",
    "y_train = np.array(y_train)\n",
    "y_val   = np.array(y_val)\n",
    "y_test  = np.array(y_test)\n"
   ]
  },
  {
   "attachments": {},
   "cell_type": "markdown",
   "metadata": {},
   "source": [
    "## Preprocessing"
   ]
  },
  {
   "cell_type": "code",
   "execution_count": 47,
   "metadata": {},
   "outputs": [],
   "source": [
    "# apply augmentation on training data\n",
    "X_train_aug, y_train_aug = data_augmentation(X_train, y_train)\n",
    "\n",
    "# apply augmentation on validation data\n",
    "X_val_aug, y_val_aug = data_augmentation(X_val, y_val)"
   ]
  },
  {
   "attachments": {},
   "cell_type": "markdown",
   "metadata": {},
   "source": [
    "## Model"
   ]
  },
  {
   "attachments": {},
   "cell_type": "markdown",
   "metadata": {},
   "source": [
    "### Model Building"
   ]
  },
  {
   "cell_type": "code",
   "execution_count": 48,
   "metadata": {},
   "outputs": [],
   "source": [
    "model = Sequential()\n",
    "# 1st layer (CONV + pool + batchnorm)\n",
    "model.add(\n",
    "    Conv2D(\n",
    "        filters=32,\n",
    "        kernel_size=(3, 3),\n",
    "        strides=(2, 2),\n",
    "        padding=\"same\",\n",
    "        input_shape=(IMG_SIZE[0], IMG_SIZE[1], 3),\n",
    "    )\n",
    ")\n",
    "model.add(Activation(\"relu\"))\n",
    "model.add(MaxPool2D(pool_size=(2, 2)))\n",
    "model.add(BatchNormalization())\n",
    "# 2nd layer (CONV + pool + batchnorm)\n",
    "model.add(\n",
    "    Conv2D(\n",
    "        filters=64,\n",
    "        kernel_size=(3, 3),\n",
    "        strides=(1, 1),\n",
    "        padding=\"same\",\n",
    "        kernel_regularizer=l2(0.0005),\n",
    "    )\n",
    ")\n",
    "model.add(Activation(\"relu\"))\n",
    "model.add(MaxPool2D(pool_size=(2, 2), padding=\"valid\"))\n",
    "model.add(BatchNormalization())\n",
    "# layer 3 (CONV + batchnorm)\n",
    "model.add(\n",
    "    Conv2D(\n",
    "        filters=128,\n",
    "        kernel_size=(3, 3),\n",
    "        strides=(1, 1),\n",
    "        padding=\"same\",\n",
    "        kernel_regularizer=l2(0.0005),\n",
    "    )\n",
    ")\n",
    "model.add(Activation(\"relu\"))\n",
    "model.add(BatchNormalization())\n",
    "# layer 4 (CONV + batchnorm)\n",
    "model.add(\n",
    "    Conv2D(\n",
    "        filters=128,\n",
    "        kernel_size=(3, 3),\n",
    "        strides=(1, 1),\n",
    "        padding=\"same\",\n",
    "        kernel_regularizer=l2(0.0005),\n",
    "    )\n",
    ")\n",
    "model.add(Activation(\"relu\"))\n",
    "model.add(BatchNormalization())\n",
    "# layer 5 (CONV + batchnorm)\n",
    "model.add(\n",
    "    Conv2D(\n",
    "        filters=64,\n",
    "        kernel_size=(3, 3),\n",
    "        strides=(1, 1),\n",
    "        padding=\"same\",\n",
    "        kernel_regularizer=l2(0.0005),\n",
    "    )\n",
    ")\n",
    "model.add(Activation(\"relu\"))\n",
    "model.add(BatchNormalization())\n",
    "model.add(MaxPool2D(pool_size=(2, 2), padding=\"valid\"))\n",
    "model.add(Flatten())\n",
    "# layer 6 (Dense layer + dropout)\n",
    "model.add(Dense(units=1024, activation=\"relu\"))\n",
    "model.add(Dropout(0.5))\n",
    "# layer 7 (Dense layers)\n",
    "model.add(Dense(units=1024, activation=\"relu\"))\n",
    "model.add(Dropout(0.5))\n",
    "# layer 8 (softmax output layer)\n",
    "model.add(Dense(units=2, activation=\"softmax\"))"
   ]
  },
  {
   "attachments": {},
   "cell_type": "markdown",
   "metadata": {},
   "source": [
    "### Model Training"
   ]
  },
  {
   "cell_type": "code",
   "execution_count": 49,
   "metadata": {},
   "outputs": [
    {
     "name": "stderr",
     "output_type": "stream",
     "text": [
      "2023-05-19 23:30:14.029560: W tensorflow/core/framework/cpu_allocator_impl.cc:82] Allocation of 1042808832 exceeds 10% of free system memory.\n"
     ]
    },
    {
     "name": "stdout",
     "output_type": "stream",
     "text": [
      "21/21 [==============================] - 98s 5s/step - loss: 18.7860 - accuracy: 0.6667 - val_loss: 250.8952 - val_accuracy: 0.4703\n"
     ]
    }
   ],
   "source": [
    "model.compile(\n",
    "    loss=\"categorical_crossentropy\",\n",
    "    optimizer=\"adam\",\n",
    "    metrics=[\"accuracy\"]\n",
    ")\n",
    "\n",
    "history = model.fit(\n",
    "    X_train_aug, y_train_aug,\n",
    "    batch_size=64,\n",
    "    epochs=1,\n",
    "    validation_data=(X_val_aug, y_val_aug)\n",
    ")"
   ]
  },
  {
   "attachments": {},
   "cell_type": "markdown",
   "metadata": {},
   "source": [
    "## Evaluation"
   ]
  },
  {
   "cell_type": "code",
   "execution_count": 50,
   "metadata": {},
   "outputs": [
    {
     "name": "stdout",
     "output_type": "stream",
     "text": [
      "Accuracy:  0.4702702702702703\n",
      "F1 score:  0.31985294117647056\n",
      "Classification report: \n",
      "               precision    recall  f1-score   support\n",
      "\n",
      "           0       0.00      0.00      0.00        98\n",
      "           1       0.47      1.00      0.64        87\n",
      "\n",
      "    accuracy                           0.47       185\n",
      "   macro avg       0.24      0.50      0.32       185\n",
      "weighted avg       0.22      0.47      0.30       185\n",
      "\n"
     ]
    },
    {
     "name": "stderr",
     "output_type": "stream",
     "text": [
      "/home/ahmed/.local/lib/python3.10/site-packages/sklearn/metrics/_classification.py:1334: UndefinedMetricWarning: Precision and F-score are ill-defined and being set to 0.0 in labels with no predicted samples. Use `zero_division` parameter to control this behavior.\n",
      "  _warn_prf(average, modifier, msg_start, len(result))\n",
      "/home/ahmed/.local/lib/python3.10/site-packages/sklearn/metrics/_classification.py:1334: UndefinedMetricWarning: Precision and F-score are ill-defined and being set to 0.0 in labels with no predicted samples. Use `zero_division` parameter to control this behavior.\n",
      "  _warn_prf(average, modifier, msg_start, len(result))\n",
      "/home/ahmed/.local/lib/python3.10/site-packages/sklearn/metrics/_classification.py:1334: UndefinedMetricWarning: Precision and F-score are ill-defined and being set to 0.0 in labels with no predicted samples. Use `zero_division` parameter to control this behavior.\n",
      "  _warn_prf(average, modifier, msg_start, len(result))\n"
     ]
    },
    {
     "data": {
      "image/png": "[encoded data removed]",
      "text/plain": [
       "<Figure size 640x480 with 2 Axes>"
      ]
     },
     "metadata": {},
     "output_type": "display_data"
    }
   ],
   "source": [
    "evaluate_model(model, X_val, y_val)"
   ]
  },
  {
   "attachments": {},
   "cell_type": "markdown",
   "metadata": {},
   "source": [
    "### Another Architecture"
   ]
  },
  {
   "cell_type": "code",
   "execution_count": 51,
   "metadata": {},
   "outputs": [],
   "source": [
    "# model = Sequential()\n",
    "# # 1st layer (CONV + pool + batchnorm)\n",
    "# model.add(\n",
    "#     Conv2D(\n",
    "#         filters=96,\n",
    "#         kernel_size=(11, 11),\n",
    "#         strides=(4, 4),\n",
    "#         padding=\"valid\",\n",
    "#         input_shape=(227, 227, 3),\n",
    "#     )\n",
    "# )\n",
    "# model.add(Activation(\"relu\"))\n",
    "# model.add(MaxPool2D(pool_size=(3, 3), strides=(2, 2)))\n",
    "# model.add(BatchNormalization())\n",
    "# # 2nd layer (CONV + pool + batchnorm)\n",
    "# model.add(\n",
    "#     Conv2D(\n",
    "#         filters=256,\n",
    "#         kernel_size=(5, 5),\n",
    "#         strides=(1, 1),\n",
    "#         padding=\"same\",\n",
    "#         kernel_regularizer=l2(0.0005),\n",
    "#     )\n",
    "# )\n",
    "# model.add(Activation(\"relu\"))\n",
    "# model.add(MaxPool2D(pool_size=(3, 3), strides=(2, 2), padding=\"valid\"))\n",
    "# model.add(BatchNormalization())\n",
    "# # layer 3 (CONV + batchnorm)\n",
    "# model.add(\n",
    "#     Conv2D(\n",
    "#         filters=384,\n",
    "#         kernel_size=(3, 3),\n",
    "#         strides=(1, 1),\n",
    "#         padding=\"same\",\n",
    "#         kernel_regularizer=l2(0.0005),\n",
    "#     )\n",
    "# )\n",
    "# model.add(Activation(\"relu\"))\n",
    "# model.add(BatchNormalization())\n",
    "# # layer 4 (CONV + batchnorm)\n",
    "# model.add(\n",
    "#     Conv2D(\n",
    "#         filters=384,\n",
    "#         kernel_size=(3, 3),\n",
    "#         strides=(1, 1),\n",
    "#         padding=\"same\",\n",
    "#         kernel_regularizer=l2(0.0005),\n",
    "#     )\n",
    "# )\n",
    "# model.add(Activation(\"relu\"))\n",
    "# model.add(BatchNormalization())\n",
    "# # layer 5 (CONV + batchnorm)\n",
    "# model.add(\n",
    "#     Conv2D(\n",
    "#         filters=256,\n",
    "#         kernel_size=(3, 3),\n",
    "#         strides=(1, 1),\n",
    "#         padding=\"same\",\n",
    "#         kernel_regularizer=l2(0.0005),\n",
    "#     )\n",
    "# )\n",
    "# model.add(Activation(\"relu\"))\n",
    "# model.add(BatchNormalization())\n",
    "# model.add(MaxPool2D(pool_size=(3, 3), strides=(2, 2), padding=\"valid\"))\n",
    "# model.add(Flatten())\n",
    "# # layer 6 (Dense layer + dropout)\n",
    "# model.add(Dense(units=4096, activation=\"relu\"))\n",
    "# model.add(Dropout(0.5))\n",
    "# # layer 7 (Dense layers)\n",
    "# model.add(Dense(units=4096, activation=\"relu\"))\n",
    "# model.add(Dropout(0.5))\n",
    "# # layer 8 (softmax output layer)\n",
    "# model.add(Dense(units=2, activation=\"softmax\"))"
   ]
  }
 ],
 "metadata": {
  "kernelspec": {
   "display_name": "Python 3 (ipykernel)",
   "language": "python",
   "name": "python3"
  },
  "language_info": {
   "codemirror_mode": {
    "name": "ipython",
    "version": 3
   },
   "file_extension": ".py",
   "mimetype": "text/x-python",
   "name": "python",
   "nbconvert_exporter": "python",
   "pygments_lexer": "ipython3",
   "version": "3.10.6"
  }
 },
 "nbformat": 4,
 "nbformat_minor": 2
}
