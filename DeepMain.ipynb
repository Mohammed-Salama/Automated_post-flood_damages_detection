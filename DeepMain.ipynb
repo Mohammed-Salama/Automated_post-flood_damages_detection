{
 "cells": [
  {
   "attachments": {},
   "cell_type": "markdown",
   "metadata": {},
   "source": [
    "## Reading Data"
   ]
  },
  {
   "cell_type": "code",
   "execution_count": 192,
   "metadata": {},
   "outputs": [],
   "source": [
    "import os\n",
    "import cv2\n",
    "from tensorflow.keras.utils import to_categorical\n",
    "\n",
    "CLASSES = [\"flooded\", \"non-flooded\"]\n",
    "SIZE = (512, 512)\n",
    "\n",
    "def load_data(data_path):\n",
    "    data = []\n",
    "    labels = []\n",
    "    for c in CLASSES:\n",
    "        path = os.path.join(data_path, c)\n",
    "        for img in os.listdir(path):\n",
    "            img_array = cv2.imread(os.path.join(path,img))\n",
    "            img_array = cv2.resize(img_array, SIZE)\n",
    "            data.append(img_array)\n",
    "            labels.append(CLASSES.index(c))\n",
    "\n",
    "    labels = to_categorical(labels)\n",
    "    return data, labels\n",
    "\n",
    "\n",
    "# Load data\n",
    "data, labels = load_data(\"./Dataset\")"
   ]
  },
  {
   "attachments": {},
   "cell_type": "markdown",
   "metadata": {},
   "source": [
    "## Splitting Data"
   ]
  },
  {
   "cell_type": "code",
   "execution_count": 193,
   "metadata": {},
   "outputs": [],
   "source": [
    "from sklearn.model_selection import train_test_split\n",
    "import numpy as np\n",
    "\n",
    "X_train, X_val, y_train, y_val = train_test_split(data, labels, test_size=0.2, random_state=42)\n",
    "X_train, X_test, y_train, y_test = train_test_split(X_train, y_train, test_size=0.1, random_state=42)\n",
    "\n",
    "X_train = np.array(X_train)\n",
    "X_val = np.array(X_val)\n",
    "y_train = np.array(y_train)\n",
    "y_val = np.array(y_val)\n",
    "\n",
    "X_test = np.array(X_test)\n",
    "y_test = np.array(y_test)\n"
   ]
  },
  {
   "attachments": {},
   "cell_type": "markdown",
   "metadata": {},
   "source": [
    "## Preprocessing"
   ]
  },
  {
   "cell_type": "code",
   "execution_count": 194,
   "metadata": {},
   "outputs": [],
   "source": [
    "import imgaug.augmenters as iaa\n",
    "import numpy as np\n",
    "import random\n",
    "\n",
    "def data_augmentation(data, labels):\n",
    "    augmented_images = []\n",
    "    augmented_labels = []\n",
    "    seqs = []\n",
    "    # Define the augmentation sequences\n",
    "    for i in range(1):\n",
    "        seq = iaa.Sequential([\n",
    "                iaa.Fliplr(p=random.choice([0, 90]) / 360),\n",
    "                iaa.Flipud(p=random.choice([0, 90]) / 360),\n",
    "                # iaa.Crop(percent=(0, random.uniform(0, 0.1))),\n",
    "                iaa.GaussianBlur(sigma=random.uniform(0, 3.0)),\n",
    "                iaa.AdditiveGaussianNoise(scale=random.uniform(0.01,0.06)*255),\n",
    "                # iaa.Multiply((random.uniform(0.5, 1.5), random.uniform(0.5, 1.5))),\n",
    "                # iaa.Affine(\n",
    "                    # scale={\"x\": (random.uniform(0.8, 1.2), random.uniform(0.8, 1.2)), \"y\": (random.uniform(0.8, 1.2), random.uniform(0.8, 1.2))},\n",
    "                    # translate_percent={\"x\": (random.uniform(-0.2, 0.2), random.uniform(-0.2, 0.2)), \"y\": (random.uniform(-0.2, 0.2), random.uniform(-0.2, 0.2))},\n",
    "                    # rotate=(random.uniform(-45, 45), random.uniform(-45, 45)),\n",
    "                    # shear=(random.uniform(-16, 16), random.uniform(-16, 16))\n",
    "                # )\n",
    "                ], random_order=True)\n",
    "        seqs.append(seq)\n",
    "\n",
    "    for i, image in enumerate(data):\n",
    "        augmented_images.append(image)\n",
    "        augmented_labels.append(labels[i])\n",
    "        for seq in seqs:\n",
    "            augmented_image = seq(image=image)\n",
    "            augmented_images.append(augmented_image)\n",
    "            augmented_labels.append(labels[i])\n",
    "    \n",
    "    return np.array(augmented_images), np.array(augmented_labels)\n"
   ]
  },
  {
   "cell_type": "code",
   "execution_count": 196,
   "metadata": {},
   "outputs": [],
   "source": [
    "# apply augmentation on training data\n",
    "X_train_aug, y_train = data_augmentation(X_train, y_train)\n",
    "\n",
    "# apply augmentation on validation data\n",
    "X_val_aug, y_val = data_augmentation(X_val, y_val)"
   ]
  },
  {
   "attachments": {},
   "cell_type": "markdown",
   "metadata": {},
   "source": [
    "## Model"
   ]
  },
  {
   "attachments": {},
   "cell_type": "markdown",
   "metadata": {},
   "source": [
    "### Model Building"
   ]
  },
  {
   "cell_type": "code",
   "execution_count": 198,
   "metadata": {},
   "outputs": [],
   "source": [
    "from tensorflow.keras.models import Sequential\n",
    "from tensorflow.keras.regularizers import l2\n",
    "from tensorflow.keras.layers import (\n",
    "    Conv2D,\n",
    "    AveragePooling2D,\n",
    "    Flatten,\n",
    "    Dense,\n",
    "    Activation,\n",
    "    MaxPool2D,\n",
    "    BatchNormalization,\n",
    "    Dropout,\n",
    ")\n",
    "from tensorflow.keras.utils import to_categorical"
   ]
  },
  {
   "cell_type": "code",
   "execution_count": 200,
   "metadata": {},
   "outputs": [],
   "source": [
    "model = Sequential()\n",
    "# 1st layer (CONV + pool + batchnorm)\n",
    "model.add(\n",
    "    Conv2D(\n",
    "        filters=32,\n",
    "        kernel_size=(3, 3),\n",
    "        strides=(2, 2),\n",
    "        padding=\"same\",\n",
    "        input_shape=(SIZE[0], SIZE[1], 3),\n",
    "    )\n",
    ")\n",
    "model.add(Activation(\"relu\"))\n",
    "model.add(MaxPool2D(pool_size=(2, 2)))\n",
    "model.add(BatchNormalization())\n",
    "# 2nd layer (CONV + pool + batchnorm)\n",
    "model.add(\n",
    "    Conv2D(\n",
    "        filters=64,\n",
    "        kernel_size=(3, 3),\n",
    "        strides=(1, 1),\n",
    "        padding=\"same\",\n",
    "        kernel_regularizer=l2(0.0005),\n",
    "    )\n",
    ")\n",
    "model.add(Activation(\"relu\"))\n",
    "model.add(MaxPool2D(pool_size=(2, 2), padding=\"valid\"))\n",
    "model.add(BatchNormalization())\n",
    "# layer 3 (CONV + batchnorm)\n",
    "model.add(\n",
    "    Conv2D(\n",
    "        filters=128,\n",
    "        kernel_size=(3, 3),\n",
    "        strides=(1, 1),\n",
    "        padding=\"same\",\n",
    "        kernel_regularizer=l2(0.0005),\n",
    "    )\n",
    ")\n",
    "model.add(Activation(\"relu\"))\n",
    "model.add(BatchNormalization())\n",
    "# layer 4 (CONV + batchnorm)\n",
    "model.add(\n",
    "    Conv2D(\n",
    "        filters=128,\n",
    "        kernel_size=(3, 3),\n",
    "        strides=(1, 1),\n",
    "        padding=\"same\",\n",
    "        kernel_regularizer=l2(0.0005),\n",
    "    )\n",
    ")\n",
    "model.add(Activation(\"relu\"))\n",
    "model.add(BatchNormalization())\n",
    "# layer 5 (CONV + batchnorm)\n",
    "model.add(\n",
    "    Conv2D(\n",
    "        filters=64,\n",
    "        kernel_size=(3, 3),\n",
    "        strides=(1, 1),\n",
    "        padding=\"same\",\n",
    "        kernel_regularizer=l2(0.0005),\n",
    "    )\n",
    ")\n",
    "model.add(Activation(\"relu\"))\n",
    "model.add(BatchNormalization())\n",
    "model.add(MaxPool2D(pool_size=(2, 2), padding=\"valid\"))\n",
    "model.add(Flatten())\n",
    "# layer 6 (Dense layer + dropout)\n",
    "model.add(Dense(units=1024, activation=\"relu\"))\n",
    "model.add(Dropout(0.5))\n",
    "# layer 7 (Dense layers)\n",
    "model.add(Dense(units=1024, activation=\"relu\"))\n",
    "model.add(Dropout(0.5))\n",
    "# layer 8 (softmax output layer)\n",
    "model.add(Dense(units=2, activation=\"softmax\"))"
   ]
  },
  {
   "attachments": {},
   "cell_type": "markdown",
   "metadata": {},
   "source": [
    "### Model Training"
   ]
  },
  {
   "cell_type": "code",
   "execution_count": 201,
   "metadata": {},
   "outputs": [
    {
     "name": "stdout",
     "output_type": "stream",
     "text": [
      "Epoch 1/50\n"
     ]
    },
    {
     "name": "stderr",
     "output_type": "stream",
     "text": [
      "2023-05-12 19:12:14.683349: W tensorflow/core/framework/cpu_allocator_impl.cc:82] Allocation of 1042808832 exceeds 10% of free system memory.\n"
     ]
    },
    {
     "name": "stdout",
     "output_type": "stream",
     "text": [
      "21/21 [==============================] - 105s 5s/step - loss: 18.2902 - accuracy: 0.6342 - val_loss: 90.5665 - val_accuracy: 0.5405\n",
      "Epoch 2/50\n",
      "21/21 [==============================] - 106s 5s/step - loss: 8.2184 - accuracy: 0.7443 - val_loss: 81.2590 - val_accuracy: 0.5405\n",
      "Epoch 3/50\n",
      "21/21 [==============================] - 107s 5s/step - loss: 5.2933 - accuracy: 0.8047 - val_loss: 41.8441 - val_accuracy: 0.4838\n",
      "Epoch 4/50\n",
      "21/21 [==============================] - 105s 5s/step - loss: 4.4983 - accuracy: 0.8228 - val_loss: 16.4590 - val_accuracy: 0.5459\n",
      "Epoch 5/50\n",
      "21/21 [==============================] - 106s 5s/step - loss: 1.8272 - accuracy: 0.8560 - val_loss: 15.3067 - val_accuracy: 0.5649\n",
      "Epoch 6/50\n",
      "21/21 [==============================] - 106s 5s/step - loss: 2.7178 - accuracy: 0.8612 - val_loss: 5.3504 - val_accuracy: 0.6243\n",
      "Epoch 7/50\n",
      "21/21 [==============================] - 106s 5s/step - loss: 1.4157 - accuracy: 0.8937 - val_loss: 7.1903 - val_accuracy: 0.6649\n",
      "Epoch 8/50\n",
      "21/21 [==============================] - 106s 5s/step - loss: 1.2368 - accuracy: 0.8816 - val_loss: 20.6816 - val_accuracy: 0.5892\n",
      "Epoch 9/50\n",
      "21/21 [==============================] - 104s 5s/step - loss: 1.1840 - accuracy: 0.9095 - val_loss: 3.1747 - val_accuracy: 0.7405\n",
      "Epoch 10/50\n",
      "21/21 [==============================] - 104s 5s/step - loss: 0.7004 - accuracy: 0.9336 - val_loss: 3.7720 - val_accuracy: 0.6946\n",
      "Epoch 11/50\n",
      "21/21 [==============================] - 102s 5s/step - loss: 0.6640 - accuracy: 0.9367 - val_loss: 2.7871 - val_accuracy: 0.7297\n",
      "Epoch 12/50\n",
      "21/21 [==============================] - 103s 5s/step - loss: 0.6690 - accuracy: 0.9389 - val_loss: 3.2486 - val_accuracy: 0.7757\n",
      "Epoch 13/50\n",
      "21/21 [==============================] - 102s 5s/step - loss: 0.7180 - accuracy: 0.9502 - val_loss: 3.3526 - val_accuracy: 0.7595\n",
      "Epoch 14/50\n",
      "21/21 [==============================] - 99s 5s/step - loss: 1.0544 - accuracy: 0.9525 - val_loss: 5.9653 - val_accuracy: 0.7081\n",
      "Epoch 15/50\n",
      "21/21 [==============================] - 101s 5s/step - loss: 0.9044 - accuracy: 0.9593 - val_loss: 4.4764 - val_accuracy: 0.8405\n",
      "Epoch 16/50\n",
      "21/21 [==============================] - 97s 5s/step - loss: 0.5614 - accuracy: 0.9585 - val_loss: 4.9720 - val_accuracy: 0.7486\n",
      "Epoch 17/50\n",
      "21/21 [==============================] - 95s 5s/step - loss: 0.5911 - accuracy: 0.9548 - val_loss: 5.6064 - val_accuracy: 0.7270\n",
      "Epoch 18/50\n",
      "21/21 [==============================] - 91s 4s/step - loss: 0.7101 - accuracy: 0.9525 - val_loss: 2.6034 - val_accuracy: 0.8351\n",
      "Epoch 19/50\n",
      "21/21 [==============================] - 90s 4s/step - loss: 0.4712 - accuracy: 0.9736 - val_loss: 3.1295 - val_accuracy: 0.8216\n",
      "Epoch 20/50\n",
      "21/21 [==============================] - 93s 4s/step - loss: 0.5898 - accuracy: 0.9578 - val_loss: 4.4932 - val_accuracy: 0.7676\n",
      "Epoch 21/50\n",
      "21/21 [==============================] - 92s 4s/step - loss: 0.4696 - accuracy: 0.9691 - val_loss: 3.0776 - val_accuracy: 0.8027\n",
      "Epoch 22/50\n",
      "21/21 [==============================] - 92s 4s/step - loss: 0.5112 - accuracy: 0.9683 - val_loss: 5.8656 - val_accuracy: 0.7622\n",
      "Epoch 23/50\n",
      "21/21 [==============================] - 93s 4s/step - loss: 0.5482 - accuracy: 0.9600 - val_loss: 6.2251 - val_accuracy: 0.6946\n",
      "Epoch 24/50\n",
      "21/21 [==============================] - 91s 4s/step - loss: 0.5134 - accuracy: 0.9630 - val_loss: 3.7675 - val_accuracy: 0.8135\n",
      "Epoch 25/50\n",
      "21/21 [==============================] - 91s 4s/step - loss: 0.4591 - accuracy: 0.9683 - val_loss: 3.1278 - val_accuracy: 0.8676\n",
      "Epoch 26/50\n",
      "21/21 [==============================] - 91s 4s/step - loss: 0.3529 - accuracy: 0.9789 - val_loss: 3.6167 - val_accuracy: 0.8216\n",
      "Epoch 27/50\n",
      "21/21 [==============================] - 90s 4s/step - loss: 0.2881 - accuracy: 0.9804 - val_loss: 4.2258 - val_accuracy: 0.8378\n",
      "Epoch 28/50\n",
      "21/21 [==============================] - 91s 4s/step - loss: 0.3365 - accuracy: 0.9774 - val_loss: 3.2729 - val_accuracy: 0.8243\n",
      "Epoch 29/50\n",
      "21/21 [==============================] - 92s 4s/step - loss: 0.2979 - accuracy: 0.9766 - val_loss: 3.9368 - val_accuracy: 0.8189\n",
      "Epoch 30/50\n",
      "21/21 [==============================] - 92s 4s/step - loss: 0.2419 - accuracy: 0.9902 - val_loss: 4.5235 - val_accuracy: 0.8378\n",
      "Epoch 31/50\n",
      "21/21 [==============================] - 93s 4s/step - loss: 0.2652 - accuracy: 0.9857 - val_loss: 3.5549 - val_accuracy: 0.8405\n",
      "Epoch 32/50\n",
      "21/21 [==============================] - 92s 4s/step - loss: 0.4353 - accuracy: 0.9894 - val_loss: 4.4225 - val_accuracy: 0.8108\n",
      "Epoch 33/50\n",
      "21/21 [==============================] - 93s 4s/step - loss: 0.6021 - accuracy: 0.9661 - val_loss: 5.6236 - val_accuracy: 0.6541\n",
      "Epoch 34/50\n",
      "21/21 [==============================] - 93s 4s/step - loss: 0.6239 - accuracy: 0.9653 - val_loss: 14.0891 - val_accuracy: 0.5270\n",
      "Epoch 35/50\n",
      "21/21 [==============================] - 93s 4s/step - loss: 0.5996 - accuracy: 0.9555 - val_loss: 5.8749 - val_accuracy: 0.6324\n",
      "Epoch 36/50\n",
      "21/21 [==============================] - 93s 4s/step - loss: 0.4018 - accuracy: 0.9646 - val_loss: 2.3247 - val_accuracy: 0.8568\n",
      "Epoch 37/50\n",
      "21/21 [==============================] - 89s 4s/step - loss: 0.3293 - accuracy: 0.9804 - val_loss: 3.1043 - val_accuracy: 0.7730\n",
      "Epoch 38/50\n",
      "21/21 [==============================] - 90s 4s/step - loss: 0.2766 - accuracy: 0.9827 - val_loss: 2.4152 - val_accuracy: 0.8568\n",
      "Epoch 39/50\n",
      "21/21 [==============================] - 90s 4s/step - loss: 0.2909 - accuracy: 0.9819 - val_loss: 2.9770 - val_accuracy: 0.8108\n",
      "Epoch 40/50\n",
      "21/21 [==============================] - 90s 4s/step - loss: 0.2178 - accuracy: 0.9902 - val_loss: 2.8809 - val_accuracy: 0.8649\n",
      "Epoch 41/50\n",
      "21/21 [==============================] - 90s 4s/step - loss: 0.1997 - accuracy: 0.9947 - val_loss: 3.1936 - val_accuracy: 0.8568\n",
      "Epoch 42/50\n",
      "21/21 [==============================] - 90s 4s/step - loss: 0.4076 - accuracy: 0.9879 - val_loss: 2.1420 - val_accuracy: 0.8622\n",
      "Epoch 43/50\n",
      "21/21 [==============================] - 90s 4s/step - loss: 0.2261 - accuracy: 0.9932 - val_loss: 1.3104 - val_accuracy: 0.8378\n",
      "Epoch 44/50\n",
      "21/21 [==============================] - 93s 4s/step - loss: 0.6374 - accuracy: 0.9857 - val_loss: 1.7104 - val_accuracy: 0.8541\n",
      "Epoch 45/50\n",
      "21/21 [==============================] - 97s 5s/step - loss: 0.3086 - accuracy: 0.9864 - val_loss: 2.4746 - val_accuracy: 0.8108\n",
      "Epoch 46/50\n",
      "21/21 [==============================] - 94s 4s/step - loss: 0.5199 - accuracy: 0.9570 - val_loss: 1.7771 - val_accuracy: 0.8676\n",
      "Epoch 47/50\n",
      "21/21 [==============================] - 92s 4s/step - loss: 0.4097 - accuracy: 0.9766 - val_loss: 2.5307 - val_accuracy: 0.8027\n",
      "Epoch 48/50\n",
      "21/21 [==============================] - 91s 4s/step - loss: 0.3788 - accuracy: 0.9713 - val_loss: 3.9492 - val_accuracy: 0.8054\n",
      "Epoch 49/50\n",
      "21/21 [==============================] - 91s 4s/step - loss: 0.4987 - accuracy: 0.9706 - val_loss: 3.0690 - val_accuracy: 0.7838\n",
      "Epoch 50/50\n",
      "21/21 [==============================] - 90s 4s/step - loss: 0.4535 - accuracy: 0.9759 - val_loss: 3.3148 - val_accuracy: 0.8243\n"
     ]
    }
   ],
   "source": [
    "model.compile(\n",
    "    loss=\"categorical_crossentropy\",\n",
    "    optimizer=\"adam\",\n",
    "    metrics=[\"accuracy\"]\n",
    ")\n",
    "\n",
    "history = model.fit(\n",
    "    X_train_aug, y_train,\n",
    "    batch_size=64,\n",
    "    epochs=50,\n",
    "    validation_data=(X_val_aug, y_val)\n",
    ")"
   ]
  },
  {
   "attachments": {},
   "cell_type": "markdown",
   "metadata": {},
   "source": [
    "## Evaluation"
   ]
  },
  {
   "cell_type": "code",
   "execution_count": 204,
   "metadata": {},
   "outputs": [
    {
     "data": {
      "image/png": "[encoded data removed]",
      "text/plain": [
       "<Figure size 640x480 with 2 Axes>"
      ]
     },
     "metadata": {},
     "output_type": "display_data"
    },
    {
     "name": "stdout",
     "output_type": "stream",
     "text": [
      "F1 Score: 0.8241\n"
     ]
    }
   ],
   "source": [
    "from sklearn.metrics import confusion_matrix, f1_score\n",
    "import seaborn as sns\n",
    "import pandas as pd\n",
    "import matplotlib.pyplot as plt\n",
    "\n",
    "y_pred = model.predict(X_val_aug)\n",
    "\n",
    "y_pred = np.argmax(y_pred, axis=1)\n",
    "y_val = np.argmax(y_val, axis=1)\n",
    "\n",
    "cm = confusion_matrix(y_val, y_pred)\n",
    "cm_df = pd.DataFrame(cm, index=CATEGORIES, columns=CATEGORIES)\n",
    "sns.heatmap(cm_df, annot=True, cmap=\"Blues\", fmt=\"d\")\n",
    "plt.title(\"Confusion Matrix\")\n",
    "plt.xlabel(\"Predicted\")\n",
    "plt.ylabel(\"Actual\")\n",
    "plt.show()\n",
    "\n",
    "# print the performance measures\n",
    "print(\"F1 Score: {:.4f}\".format(f1_score(y_val, y_pred, average=\"macro\")))"
   ]
  },
  {
   "attachments": {},
   "cell_type": "markdown",
   "metadata": {},
   "source": [
    "### Save Model"
   ]
  },
  {
   "cell_type": "code",
   "execution_count": 206,
   "metadata": {},
   "outputs": [],
   "source": [
    "# model.save(\"model.h5\")"
   ]
  },
  {
   "attachments": {},
   "cell_type": "markdown",
   "metadata": {},
   "source": [
    "### load model"
   ]
  },
  {
   "cell_type": "code",
   "execution_count": null,
   "metadata": {},
   "outputs": [],
   "source": [
    "# from tensorflow.keras.models import load_model\n",
    "# model = load_model(\"model.h5\")"
   ]
  },
  {
   "attachments": {},
   "cell_type": "markdown",
   "metadata": {},
   "source": [
    "### Evaluate On Test Data"
   ]
  },
  {
   "cell_type": "code",
   "execution_count": 209,
   "metadata": {},
   "outputs": [
    {
     "name": "stdout",
     "output_type": "stream",
     "text": [
      "3/3 - 1s - loss: 3.3235 - accuracy: 0.9054 - 1s/epoch - 356ms/step\n",
      "Test accuracy: 0.9054054021835327\n",
      "F1 Score: 0.9054\n"
     ]
    }
   ],
   "source": [
    "# test the model on the test data\n",
    "test_loss, test_acc = model.evaluate(X_test, y_test, verbose=2)\n",
    "print(\"Test accuracy:\", test_acc)\n",
    "\n",
    "y_pred = model.predict(X_test)\n",
    "y_pred = np.argmax(y_pred, axis=1)\n",
    "y_test = np.argmax(y_test, axis=1)\n",
    "\n",
    "print(\"F1 Score: {:.4f}\".format(f1_score(y_test, y_pred, average=\"macro\")))"
   ]
  },
  {
   "cell_type": "code",
   "execution_count": 210,
   "metadata": {},
   "outputs": [
    {
     "data": {
      "image/png": "[encoded data removed]",
      "text/plain": [
       "<Figure size 640x480 with 2 Axes>"
      ]
     },
     "metadata": {},
     "output_type": "display_data"
    }
   ],
   "source": [
    "cm = confusion_matrix(y_test, y_pred)\n",
    "cm_df = pd.DataFrame(cm, index=CATEGORIES, columns=CATEGORIES)\n",
    "sns.heatmap(cm_df, annot=True, cmap=\"Blues\", fmt=\"d\")\n",
    "plt.title(\"Confusion Matrix\")\n",
    "plt.xlabel(\"Predicted\")\n",
    "plt.ylabel(\"Actual\")\n",
    "plt.show()"
   ]
  },
  {
   "attachments": {},
   "cell_type": "markdown",
   "metadata": {},
   "source": [
    "### Another Architecture"
   ]
  },
  {
   "cell_type": "code",
   "execution_count": null,
   "metadata": {},
   "outputs": [],
   "source": [
    "# model = Sequential()\n",
    "# # 1st layer (CONV + pool + batchnorm)\n",
    "# model.add(\n",
    "#     Conv2D(\n",
    "#         filters=96,\n",
    "#         kernel_size=(11, 11),\n",
    "#         strides=(4, 4),\n",
    "#         padding=\"valid\",\n",
    "#         input_shape=(227, 227, 3),\n",
    "#     )\n",
    "# )\n",
    "# model.add(Activation(\"relu\"))\n",
    "# model.add(MaxPool2D(pool_size=(3, 3), strides=(2, 2)))\n",
    "# model.add(BatchNormalization())\n",
    "# # 2nd layer (CONV + pool + batchnorm)\n",
    "# model.add(\n",
    "#     Conv2D(\n",
    "#         filters=256,\n",
    "#         kernel_size=(5, 5),\n",
    "#         strides=(1, 1),\n",
    "#         padding=\"same\",\n",
    "#         kernel_regularizer=l2(0.0005),\n",
    "#     )\n",
    "# )\n",
    "# model.add(Activation(\"relu\"))\n",
    "# model.add(MaxPool2D(pool_size=(3, 3), strides=(2, 2), padding=\"valid\"))\n",
    "# model.add(BatchNormalization())\n",
    "# # layer 3 (CONV + batchnorm)\n",
    "# model.add(\n",
    "#     Conv2D(\n",
    "#         filters=384,\n",
    "#         kernel_size=(3, 3),\n",
    "#         strides=(1, 1),\n",
    "#         padding=\"same\",\n",
    "#         kernel_regularizer=l2(0.0005),\n",
    "#     )\n",
    "# )\n",
    "# model.add(Activation(\"relu\"))\n",
    "# model.add(BatchNormalization())\n",
    "# # layer 4 (CONV + batchnorm)\n",
    "# model.add(\n",
    "#     Conv2D(\n",
    "#         filters=384,\n",
    "#         kernel_size=(3, 3),\n",
    "#         strides=(1, 1),\n",
    "#         padding=\"same\",\n",
    "#         kernel_regularizer=l2(0.0005),\n",
    "#     )\n",
    "# )\n",
    "# model.add(Activation(\"relu\"))\n",
    "# model.add(BatchNormalization())\n",
    "# # layer 5 (CONV + batchnorm)\n",
    "# model.add(\n",
    "#     Conv2D(\n",
    "#         filters=256,\n",
    "#         kernel_size=(3, 3),\n",
    "#         strides=(1, 1),\n",
    "#         padding=\"same\",\n",
    "#         kernel_regularizer=l2(0.0005),\n",
    "#     )\n",
    "# )\n",
    "# model.add(Activation(\"relu\"))\n",
    "# model.add(BatchNormalization())\n",
    "# model.add(MaxPool2D(pool_size=(3, 3), strides=(2, 2), padding=\"valid\"))\n",
    "# model.add(Flatten())\n",
    "# # layer 6 (Dense layer + dropout)\n",
    "# model.add(Dense(units=4096, activation=\"relu\"))\n",
    "# model.add(Dropout(0.5))\n",
    "# # layer 7 (Dense layers)\n",
    "# model.add(Dense(units=4096, activation=\"relu\"))\n",
    "# model.add(Dropout(0.5))\n",
    "# # layer 8 (softmax output layer)\n",
    "# model.add(Dense(units=2, activation=\"softmax\"))"
   ]
  }
 ],
 "metadata": {
  "kernelspec": {
   "display_name": "Python 3 (ipykernel)",
   "language": "python",
   "name": "python3"
  },
  "language_info": {
   "codemirror_mode": {
    "name": "ipython",
    "version": 3
   },
   "file_extension": ".py",
   "mimetype": "text/x-python",
   "name": "python",
   "nbconvert_exporter": "python",
   "pygments_lexer": "ipython3",
   "version": "3.10.6"
  }
 },
 "nbformat": 4,
 "nbformat_minor": 2
}
