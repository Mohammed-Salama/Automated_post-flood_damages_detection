{
 "cells": [
  {
   "cell_type": "code",
   "execution_count": 1,
   "metadata": {},
   "outputs": [],
   "source": [
    "import importlib\n",
    "import utils\n",
    "importlib.reload(utils)\n",
    "from utils import load_data, CLASSES, IMG_SIZE, data_augmentation, evaluate_model\n",
    "import numpy as np\n",
    "data, labels = load_data(\"./Dataset\")\n"
   ]
  },
  {
   "cell_type": "code",
   "execution_count": 2,
   "metadata": {},
   "outputs": [],
   "source": [
    "# save data and labels\n",
    "importlib.reload(utils)\n",
    "from pathlib import Path\n",
    "from utils import save_imgs\n",
    "save_imgs(Path('Dataset-ResNet'),data,labels)"
   ]
  },
  {
   "cell_type": "code",
   "execution_count": 3,
   "metadata": {},
   "outputs": [
    {
     "name": "stdout",
     "output_type": "stream",
     "text": [
      "Found 784 images belonging to 2 classes.\n",
      "Found 138 images belonging to 2 classes.\n"
     ]
    }
   ],
   "source": [
    "from tensorflow.keras.applications.resnet50 import ResNet50\n",
    "from tensorflow.keras.applications.resnet50 import preprocess_input\n",
    "import tensorflow as tf\n",
    "\n",
    "train_datagen=tf.keras.preprocessing.image.ImageDataGenerator(preprocessing_function=preprocess_input, validation_split=0.15)\n",
    "train_generator = train_datagen.flow_from_directory('./Dataset-ResNet', class_mode='categorical', subset='training')\n",
    "valid_generator = train_datagen.flow_from_directory('./Dataset-ResNet', class_mode='categorical', subset='validation')"
   ]
  },
  {
   "cell_type": "code",
   "execution_count": 4,
   "metadata": {},
   "outputs": [],
   "source": [
    "resnet_weights_path = './resnet50-0676ba61.pth'"
   ]
  },
  {
   "cell_type": "code",
   "execution_count": 5,
   "metadata": {},
   "outputs": [
    {
     "name": "stderr",
     "output_type": "stream",
     "text": [
      "2023-05-20 14:24:39.191049: E tensorflow/stream_executor/cuda/cuda_driver.cc:271] failed call to cuInit: CUDA_ERROR_NO_DEVICE: no CUDA-capable device is detected\n",
      "2023-05-20 14:24:39.191090: I tensorflow/stream_executor/cuda/cuda_diagnostics.cc:156] kernel driver does not appear to be running on this host (ahmed-Nitro-AN515-44): /proc/driver/nvidia/version does not exist\n",
      "2023-05-20 14:24:39.192823: I tensorflow/core/platform/cpu_feature_guard.cc:151] This TensorFlow binary is optimized with oneAPI Deep Neural Network Library (oneDNN) to use the following CPU instructions in performance-critical operations:  AVX2 FMA\n",
      "To enable them in other operations, rebuild TensorFlow with the appropriate compiler flags.\n"
     ]
    }
   ],
   "source": [
    "import os\n",
    "os.environ[\"CUDA_VISIBLE_DEVICES\"] = \"-1\"  # Force TensorFlow to use CPU only\n",
    "\n",
    "from tensorflow.keras.applications.resnet50 import ResNet50\n",
    "from tensorflow.keras.models import Sequential\n",
    "from tensorflow.keras.layers import Dense\n",
    "\n",
    "model = Sequential()\n",
    "\n",
    "model.add(ResNet50(include_top=False, pooling='avg', weights='imagenet'))\n",
    "\n",
    "# 2nd layer as Dense for 2-class classification, i.e., dog or cat using SoftMax activation\n",
    "model.add(Dense(2, activation='softmax'))\n",
    "\n",
    "# Say not to train the first layer (ResNet) model as it is already trained\n",
    "model.layers[0].trainable = False\n"
   ]
  },
  {
   "cell_type": "code",
   "execution_count": 6,
   "metadata": {},
   "outputs": [
    {
     "name": "stderr",
     "output_type": "stream",
     "text": [
      "/tmp/ipykernel_38146/2543279341.py:2: UserWarning: `Model.fit_generator` is deprecated and will be removed in a future version. Please use `Model.fit`, which supports generators.\n",
      "  model.fit_generator(generator=train_generator,epochs=20,validation_data=valid_generator)\n"
     ]
    },
    {
     "name": "stdout",
     "output_type": "stream",
     "text": [
      "Epoch 1/20\n",
      "25/25 [==============================] - 47s 2s/step - loss: 0.4212 - accuracy: 0.8163 - val_loss: 0.2812 - val_accuracy: 0.9130\n",
      "Epoch 2/20\n",
      "25/25 [==============================] - 42s 2s/step - loss: 0.1219 - accuracy: 0.9592 - val_loss: 0.1871 - val_accuracy: 0.9420\n",
      "Epoch 3/20\n",
      "25/25 [==============================] - 41s 2s/step - loss: 0.0921 - accuracy: 0.9783 - val_loss: 0.1671 - val_accuracy: 0.9493\n",
      "Epoch 4/20\n",
      "25/25 [==============================] - 42s 2s/step - loss: 0.0699 - accuracy: 0.9834 - val_loss: 0.1685 - val_accuracy: 0.9493\n",
      "Epoch 5/20\n",
      "25/25 [==============================] - 41s 2s/step - loss: 0.0606 - accuracy: 0.9834 - val_loss: 0.1874 - val_accuracy: 0.9203\n",
      "Epoch 6/20\n",
      "25/25 [==============================] - 42s 2s/step - loss: 0.0512 - accuracy: 0.9911 - val_loss: 0.1530 - val_accuracy: 0.9565\n",
      "Epoch 7/20\n",
      "25/25 [==============================] - 43s 2s/step - loss: 0.0444 - accuracy: 0.9936 - val_loss: 0.1541 - val_accuracy: 0.9565\n",
      "Epoch 8/20\n",
      "25/25 [==============================] - 43s 2s/step - loss: 0.0377 - accuracy: 0.9949 - val_loss: 0.1516 - val_accuracy: 0.9565\n",
      "Epoch 9/20\n",
      "25/25 [==============================] - 43s 2s/step - loss: 0.0333 - accuracy: 0.9962 - val_loss: 0.1389 - val_accuracy: 0.9565\n",
      "Epoch 10/20\n",
      "25/25 [==============================] - 43s 2s/step - loss: 0.0283 - accuracy: 0.9974 - val_loss: 0.1322 - val_accuracy: 0.9493\n",
      "Epoch 11/20\n",
      "25/25 [==============================] - 41s 2s/step - loss: 0.0249 - accuracy: 0.9974 - val_loss: 0.1346 - val_accuracy: 0.9565\n",
      "Epoch 12/20\n",
      "25/25 [==============================] - 40s 2s/step - loss: 0.0209 - accuracy: 0.9974 - val_loss: 0.1362 - val_accuracy: 0.9493\n",
      "Epoch 13/20\n",
      "25/25 [==============================] - 41s 2s/step - loss: 0.0210 - accuracy: 0.9987 - val_loss: 0.1441 - val_accuracy: 0.9565\n",
      "Epoch 14/20\n",
      "25/25 [==============================] - 39s 2s/step - loss: 0.0168 - accuracy: 0.9974 - val_loss: 0.1374 - val_accuracy: 0.9565\n",
      "Epoch 15/20\n",
      "25/25 [==============================] - 38s 2s/step - loss: 0.0144 - accuracy: 0.9987 - val_loss: 0.1415 - val_accuracy: 0.9565\n",
      "Epoch 16/20\n",
      "25/25 [==============================] - 39s 2s/step - loss: 0.0134 - accuracy: 1.0000 - val_loss: 0.1425 - val_accuracy: 0.9493\n",
      "Epoch 17/20\n",
      "25/25 [==============================] - 40s 2s/step - loss: 0.0119 - accuracy: 0.9987 - val_loss: 0.1474 - val_accuracy: 0.9493\n",
      "Epoch 18/20\n",
      "25/25 [==============================] - 40s 2s/step - loss: 0.0111 - accuracy: 1.0000 - val_loss: 0.1430 - val_accuracy: 0.9638\n",
      "Epoch 19/20\n",
      "25/25 [==============================] - 39s 2s/step - loss: 0.0098 - accuracy: 1.0000 - val_loss: 0.1545 - val_accuracy: 0.9638\n",
      "Epoch 20/20\n",
      "25/25 [==============================] - 41s 2s/step - loss: 0.0104 - accuracy: 1.0000 - val_loss: 0.1533 - val_accuracy: 0.9638\n"
     ]
    },
    {
     "data": {
      "text/plain": [
       "<keras.callbacks.History at 0x7fb656d93160>"
      ]
     },
     "execution_count": 6,
     "metadata": {},
     "output_type": "execute_result"
    }
   ],
   "source": [
    "model.compile(optimizer='Adam', loss='categorical_crossentropy', metrics=['accuracy'])\n",
    "model.fit_generator(generator=train_generator,epochs=20,validation_data=valid_generator)"
   ]
  },
  {
   "cell_type": "markdown",
   "metadata": {},
   "source": [
    "## Evaluate Model"
   ]
  },
  {
   "cell_type": "code",
   "execution_count": 7,
   "metadata": {},
   "outputs": [],
   "source": [
    "import numpy as np\n",
    "\n",
    "valid_data = []\n",
    "valid_labels = []\n",
    "\n",
    "valid_generator.reset()  # Reset the generator to start from the beginning\n",
    "\n",
    "for _ in range(len(valid_generator)):\n",
    "    batch_data, batch_labels = valid_generator.next()\n",
    "    valid_data.append(batch_data)\n",
    "    valid_labels.append(batch_labels)\n",
    "\n",
    "valid_data = np.concatenate(valid_data)\n",
    "valid_labels = np.concatenate(valid_labels)\n"
   ]
  },
  {
   "cell_type": "code",
   "execution_count": 8,
   "metadata": {},
   "outputs": [
    {
     "name": "stdout",
     "output_type": "stream",
     "text": [
      "Accuracy:  0.9637681159420289\n",
      "F1 score:  0.9637509850275807\n",
      "Classification report: \n",
      "               precision    recall  f1-score   support\n",
      "\n",
      "           0       0.98      0.94      0.96        69\n",
      "           1       0.94      0.99      0.96        69\n",
      "\n",
      "    accuracy                           0.96       138\n",
      "   macro avg       0.96      0.96      0.96       138\n",
      "weighted avg       0.96      0.96      0.96       138\n",
      "\n"
     ]
    },
    {
     "data": {
      "image/png": "[encoded data removed]",
      "text/plain": [
       "<Figure size 640x480 with 2 Axes>"
      ]
     },
     "metadata": {},
     "output_type": "display_data"
    }
   ],
   "source": [
    "# get validation data from  generator\n",
    "x_val, y_val = next(valid_generator)\n",
    "\n",
    "\n",
    "importlib.reload(utils)\n",
    "from utils import evaluate_model\n",
    "\n",
    "evaluate_model(model, valid_data, valid_labels)"
   ]
  }
 ],
 "metadata": {
  "kernelspec": {
   "display_name": "Python 3",
   "language": "python",
   "name": "python3"
  },
  "language_info": {
   "codemirror_mode": {
    "name": "ipython",
    "version": 3
   },
   "file_extension": ".py",
   "mimetype": "text/x-python",
   "name": "python",
   "nbconvert_exporter": "python",
   "pygments_lexer": "ipython3",
   "version": "3.10.6"
  },
  "orig_nbformat": 4
 },
 "nbformat": 4,
 "nbformat_minor": 2
}
