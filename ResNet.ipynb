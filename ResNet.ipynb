{
 "cells": [
  {
   "cell_type": "code",
   "execution_count": 30,
   "metadata": {},
   "outputs": [],
   "source": [
    "import importlib\n",
    "import utils\n",
    "importlib.reload(utils)\n",
    "from utils import load_data, CLASSES, IMG_SIZE, data_augmentation, evaluate_model\n",
    "import numpy as np\n",
    "data, labels = load_data(\"./Dataset\")\n"
   ]
  },
  {
   "cell_type": "code",
   "execution_count": 40,
   "metadata": {},
   "outputs": [],
   "source": [
    "# save data and labels\n",
    "importlib.reload(utils)\n",
    "from pathlib import Path\n",
    "from utils import save_imgs\n",
    "save_imgs(Path('Dataset-ResNet'),data,labels)"
   ]
  },
  {
   "cell_type": "code",
   "execution_count": 52,
   "metadata": {},
   "outputs": [
    {
     "name": "stdout",
     "output_type": "stream",
     "text": [
      "Found 784 images belonging to 2 classes.\n",
      "Found 138 images belonging to 2 classes.\n"
     ]
    }
   ],
   "source": [
    "from tensorflow.keras.applications.resnet50 import ResNet50\n",
    "from tensorflow.keras.applications.resnet50 import preprocess_input\n",
    "import tensorflow as tf\n",
    "\n",
    "train_datagen=tf.keras.preprocessing.image.ImageDataGenerator(preprocessing_function=preprocess_input, validation_split=0.15)\n",
    "train_generator = train_datagen.flow_from_directory('./Dataset-ResNet', class_mode='categorical', subset='training')\n",
    "valid_generator = train_datagen.flow_from_directory('./Dataset-ResNet', class_mode='categorical', subset='validation')"
   ]
  },
  {
   "cell_type": "code",
   "execution_count": 71,
   "metadata": {},
   "outputs": [],
   "source": [
    "resnet_weights_path = './resnet50-0676ba61.pth'"
   ]
  },
  {
   "cell_type": "code",
   "execution_count": 73,
   "metadata": {},
   "outputs": [
    {
     "name": "stdout",
     "output_type": "stream",
     "text": [
      "Downloading data from https://storage.googleapis.com/tensorflow/keras-applications/resnet/resnet50_weights_tf_dim_ordering_tf_kernels_notop.h5\n",
      "94773248/94765736 [==============================] - 55s 1us/step\n",
      "94781440/94765736 [==============================] - 55s 1us/step\n"
     ]
    }
   ],
   "source": [
    "import os\n",
    "os.environ[\"CUDA_VISIBLE_DEVICES\"] = \"-1\"  # Force TensorFlow to use CPU only\n",
    "\n",
    "from tensorflow.keras.applications.resnet50 import ResNet50\n",
    "from tensorflow.keras.models import Sequential\n",
    "from tensorflow.keras.layers import Dense\n",
    "\n",
    "model = Sequential()\n",
    "\n",
    "model.add(ResNet50(include_top=False, pooling='avg', weights='imagenet'))\n",
    "\n",
    "# 2nd layer as Dense for 2-class classification, i.e., dog or cat using SoftMax activation\n",
    "model.add(Dense(2, activation='softmax'))\n",
    "\n",
    "# Say not to train the first layer (ResNet) model as it is already trained\n",
    "model.layers[0].trainable = False\n"
   ]
  },
  {
   "cell_type": "code",
   "execution_count": 74,
   "metadata": {},
   "outputs": [
    {
     "name": "stderr",
     "output_type": "stream",
     "text": [
      "/tmp/ipykernel_94355/3076502788.py:2: UserWarning: `Model.fit_generator` is deprecated and will be removed in a future version. Please use `Model.fit`, which supports generators.\n",
      "  model.fit_generator(generator=train_generator,epochs=10,validation_data=valid_generator)\n"
     ]
    },
    {
     "name": "stdout",
     "output_type": "stream",
     "text": [
      "Epoch 1/10\n"
     ]
    },
    {
     "name": "stderr",
     "output_type": "stream",
     "text": [
      "2023-05-20 02:21:49.164513: W tensorflow/core/framework/cpu_allocator_impl.cc:82] Allocation of 134217728 exceeds 10% of free system memory.\n",
      "2023-05-20 02:21:49.336220: W tensorflow/core/framework/cpu_allocator_impl.cc:82] Allocation of 134217728 exceeds 10% of free system memory.\n",
      "2023-05-20 02:21:49.473105: W tensorflow/core/framework/cpu_allocator_impl.cc:82] Allocation of 138444800 exceeds 10% of free system memory.\n",
      "2023-05-20 02:21:49.519804: W tensorflow/core/framework/cpu_allocator_impl.cc:82] Allocation of 33554432 exceeds 10% of free system memory.\n",
      "2023-05-20 02:21:49.553169: W tensorflow/core/framework/cpu_allocator_impl.cc:82] Allocation of 33554432 exceeds 10% of free system memory.\n"
     ]
    },
    {
     "name": "stdout",
     "output_type": "stream",
     "text": [
      "25/25 [==============================] - 63s 2s/step - loss: 0.3016 - accuracy: 0.8622 - val_loss: 0.2463 - val_accuracy: 0.9203\n",
      "Epoch 2/10\n",
      "25/25 [==============================] - 49s 2s/step - loss: 0.1083 - accuracy: 0.9668 - val_loss: 0.1867 - val_accuracy: 0.9493\n",
      "Epoch 3/10\n",
      "25/25 [==============================] - 48s 2s/step - loss: 0.0867 - accuracy: 0.9732 - val_loss: 0.1977 - val_accuracy: 0.9203\n",
      "Epoch 4/10\n",
      "25/25 [==============================] - 46s 2s/step - loss: 0.0721 - accuracy: 0.9821 - val_loss: 0.1748 - val_accuracy: 0.9420\n",
      "Epoch 5/10\n",
      "25/25 [==============================] - 47s 2s/step - loss: 0.0624 - accuracy: 0.9847 - val_loss: 0.1639 - val_accuracy: 0.9420\n",
      "Epoch 6/10\n",
      "25/25 [==============================] - 47s 2s/step - loss: 0.0471 - accuracy: 0.9898 - val_loss: 0.1501 - val_accuracy: 0.9493\n",
      "Epoch 7/10\n",
      "25/25 [==============================] - 44s 2s/step - loss: 0.0404 - accuracy: 0.9949 - val_loss: 0.1526 - val_accuracy: 0.9420\n",
      "Epoch 8/10\n",
      "25/25 [==============================] - 44s 2s/step - loss: 0.0336 - accuracy: 0.9962 - val_loss: 0.1411 - val_accuracy: 0.9565\n",
      "Epoch 9/10\n",
      "25/25 [==============================] - 43s 2s/step - loss: 0.0285 - accuracy: 0.9962 - val_loss: 0.1300 - val_accuracy: 0.9638\n",
      "Epoch 10/10\n",
      "25/25 [==============================] - 43s 2s/step - loss: 0.0278 - accuracy: 0.9962 - val_loss: 0.1212 - val_accuracy: 0.9565\n"
     ]
    },
    {
     "data": {
      "text/plain": [
       "<keras.callbacks.History at 0x7f7eb8be3fa0>"
      ]
     },
     "execution_count": 74,
     "metadata": {},
     "output_type": "execute_result"
    }
   ],
   "source": [
    "model.compile(optimizer='Adam', loss='categorical_crossentropy', metrics=['accuracy'])\n",
    "model.fit_generator(generator=train_generator,epochs=10,validation_data=valid_generator)"
   ]
  },
  {
   "cell_type": "markdown",
   "metadata": {},
   "source": [
    "## Evaluate Model"
   ]
  },
  {
   "cell_type": "code",
   "execution_count": 77,
   "metadata": {},
   "outputs": [],
   "source": [
    "import numpy as np\n",
    "\n",
    "valid_data = []\n",
    "valid_labels = []\n",
    "\n",
    "valid_generator.reset()  # Reset the generator to start from the beginning\n",
    "\n",
    "for _ in range(len(valid_generator)):\n",
    "    batch_data, batch_labels = valid_generator.next()\n",
    "    valid_data.append(batch_data)\n",
    "    valid_labels.append(batch_labels)\n",
    "\n",
    "valid_data = np.concatenate(valid_data)\n",
    "valid_labels = np.concatenate(valid_labels)\n"
   ]
  },
  {
   "cell_type": "code",
   "execution_count": 78,
   "metadata": {},
   "outputs": [
    {
     "name": "stdout",
     "output_type": "stream",
     "text": [
      "Accuracy:  0.9565217391304348\n",
      "F1 score:  0.9565126050420167\n",
      "Classification report: \n",
      "               precision    recall  f1-score   support\n",
      "\n",
      "           0       0.97      0.94      0.96        69\n",
      "           1       0.94      0.97      0.96        69\n",
      "\n",
      "    accuracy                           0.96       138\n",
      "   macro avg       0.96      0.96      0.96       138\n",
      "weighted avg       0.96      0.96      0.96       138\n",
      "\n"
     ]
    },
    {
     "data": {
      "image/png": "[encoded data removed]",
      "text/plain": [
       "<Figure size 640x480 with 2 Axes>"
      ]
     },
     "metadata": {},
     "output_type": "display_data"
    }
   ],
   "source": [
    "# get validation data from  generator\n",
    "x_val, y_val = next(valid_generator)\n",
    "\n",
    "\n",
    "importlib.reload(utils)\n",
    "from utils import evaluate_model\n",
    "\n",
    "evaluate_model(model, valid_data, valid_labels)"
   ]
  }
 ],
 "metadata": {
  "kernelspec": {
   "display_name": "Python 3",
   "language": "python",
   "name": "python3"
  },
  "language_info": {
   "codemirror_mode": {
    "name": "ipython",
    "version": 3
   },
   "file_extension": ".py",
   "mimetype": "text/x-python",
   "name": "python",
   "nbconvert_exporter": "python",
   "pygments_lexer": "ipython3",
   "version": "3.10.6"
  },
  "orig_nbformat": 4
 },
 "nbformat": 4,
 "nbformat_minor": 2
}
