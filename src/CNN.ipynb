{
 "cells": [
  {
   "cell_type": "code",
   "execution_count": 1,
   "metadata": {},
   "outputs": [],
   "source": [
    "import importlib\n",
    "import utils\n",
    "importlib.reload(utils)\n",
    "from utils import load_data, CLASSES, data_augmentation, evaluate_model\n",
    "import numpy as np\n",
    "from sklearn.model_selection import train_test_split\n",
    "from tensorflow.keras.models import Sequential\n",
    "from tensorflow.keras.regularizers import l2\n",
    "from tensorflow.keras.layers import (\n",
    "    Conv2D,\n",
    "    AveragePooling2D,\n",
    "    Flatten,\n",
    "    Dense,\n",
    "    Activation,\n",
    "    MaxPool2D,\n",
    "    BatchNormalization,\n",
    "    Dropout,\n",
    ")\n",
    "from tensorflow.keras.utils import to_categorical\n",
    "from sklearn.metrics import confusion_matrix, f1_score\n",
    "import seaborn as sns\n",
    "import pandas as pd\n",
    "import matplotlib.pyplot as plt\n"
   ]
  },
  {
   "attachments": {},
   "cell_type": "markdown",
   "metadata": {},
   "source": [
    "## Reading Data"
   ]
  },
  {
   "cell_type": "code",
   "execution_count": 2,
   "metadata": {},
   "outputs": [
    {
     "name": "stdout",
     "output_type": "stream",
     "text": [
      "Image sizes: (256, 256)\n"
     ]
    }
   ],
   "source": [
    "IMG_SIZE = (256, 256)\n",
    "data, labels = load_data(\"./Dataset\", IMG_SIZE=IMG_SIZE)\n",
    "print('Image sizes:', IMG_SIZE)"
   ]
  },
  {
   "attachments": {},
   "cell_type": "markdown",
   "metadata": {},
   "source": [
    "## Splitting Data"
   ]
  },
  {
   "cell_type": "code",
   "execution_count": 3,
   "metadata": {},
   "outputs": [],
   "source": [
    "X_train, X_val, y_train, y_val   = train_test_split(data, labels,     test_size=0.2, random_state=42)\n",
    "X_train, X_test, y_train, y_test = train_test_split(X_train, y_train, test_size=0.1, random_state=42)\n",
    "\n",
    "X_train = np.array(X_train)\n",
    "X_val   = np.array(X_val)\n",
    "X_test  = np.array(X_test)\n",
    "y_train = np.array(y_train)\n",
    "y_val   = np.array(y_val)\n",
    "y_test  = np.array(y_test)\n"
   ]
  },
  {
   "attachments": {},
   "cell_type": "markdown",
   "metadata": {},
   "source": [
    "## Preprocessing"
   ]
  },
  {
   "cell_type": "code",
   "execution_count": 4,
   "metadata": {},
   "outputs": [],
   "source": [
    "# apply augmentation on training data\n",
    "X_train_aug, y_train_aug = data_augmentation(X_train, y_train)\n",
    "\n",
    "# apply augmentation on validation data\n",
    "X_val_aug, y_val_aug = data_augmentation(X_val, y_val)"
   ]
  },
  {
   "attachments": {},
   "cell_type": "markdown",
   "metadata": {},
   "source": [
    "## Model"
   ]
  },
  {
   "attachments": {},
   "cell_type": "markdown",
   "metadata": {},
   "source": [
    "### Model Building"
   ]
  },
  {
   "cell_type": "code",
   "execution_count": 5,
   "metadata": {},
   "outputs": [
    {
     "name": "stderr",
     "output_type": "stream",
     "text": [
      "2023-05-20 23:17:24.991026: E tensorflow/stream_executor/cuda/cuda_driver.cc:271] failed call to cuInit: CUDA_ERROR_NO_DEVICE: no CUDA-capable device is detected\n",
      "2023-05-20 23:17:24.991073: I tensorflow/stream_executor/cuda/cuda_diagnostics.cc:156] kernel driver does not appear to be running on this host (ahmed-Nitro-AN515-44): /proc/driver/nvidia/version does not exist\n",
      "2023-05-20 23:17:24.992730: I tensorflow/core/platform/cpu_feature_guard.cc:151] This TensorFlow binary is optimized with oneAPI Deep Neural Network Library (oneDNN) to use the following CPU instructions in performance-critical operations:  AVX2 FMA\n",
      "To enable them in other operations, rebuild TensorFlow with the appropriate compiler flags.\n",
      "2023-05-20 23:17:25.150009: W tensorflow/core/framework/cpu_allocator_impl.cc:82] Allocation of 67108864 exceeds 10% of free system memory.\n",
      "2023-05-20 23:17:25.191218: W tensorflow/core/framework/cpu_allocator_impl.cc:82] Allocation of 67108864 exceeds 10% of free system memory.\n",
      "2023-05-20 23:17:25.215796: W tensorflow/core/framework/cpu_allocator_impl.cc:82] Allocation of 67108864 exceeds 10% of free system memory.\n"
     ]
    }
   ],
   "source": [
    "model = Sequential()\n",
    "# 1st layer (CONV + pool + batchnorm)\n",
    "model.add(\n",
    "    Conv2D(\n",
    "        filters=32,\n",
    "        kernel_size=(3, 3),\n",
    "        strides=(2, 2),\n",
    "        padding=\"same\",\n",
    "        input_shape=(IMG_SIZE[0], IMG_SIZE[1], 3),\n",
    "    )\n",
    ")\n",
    "model.add(Activation(\"relu\"))\n",
    "model.add(MaxPool2D(pool_size=(2, 2)))\n",
    "model.add(BatchNormalization())\n",
    "# 2nd layer (CONV + pool + batchnorm)\n",
    "model.add(\n",
    "    Conv2D(\n",
    "        filters=64,\n",
    "        kernel_size=(3, 3),\n",
    "        strides=(1, 1),\n",
    "        padding=\"same\",\n",
    "        kernel_regularizer=l2(0.0005),\n",
    "    )\n",
    ")\n",
    "model.add(Activation(\"relu\"))\n",
    "model.add(MaxPool2D(pool_size=(2, 2), padding=\"valid\"))\n",
    "model.add(BatchNormalization())\n",
    "# layer 3 (CONV + batchnorm)\n",
    "model.add(\n",
    "    Conv2D(\n",
    "        filters=128,\n",
    "        kernel_size=(3, 3),\n",
    "        strides=(1, 1),\n",
    "        padding=\"same\",\n",
    "        kernel_regularizer=l2(0.0005),\n",
    "    )\n",
    ")\n",
    "model.add(Activation(\"relu\"))\n",
    "model.add(BatchNormalization())\n",
    "# layer 4 (CONV + batchnorm)\n",
    "model.add(\n",
    "    Conv2D(\n",
    "        filters=128,\n",
    "        kernel_size=(3, 3),\n",
    "        strides=(1, 1),\n",
    "        padding=\"same\",\n",
    "        kernel_regularizer=l2(0.0005),\n",
    "    )\n",
    ")\n",
    "model.add(Activation(\"relu\"))\n",
    "model.add(BatchNormalization())\n",
    "# layer 5 (CONV + batchnorm)\n",
    "model.add(\n",
    "    Conv2D(\n",
    "        filters=64,\n",
    "        kernel_size=(3, 3),\n",
    "        strides=(1, 1),\n",
    "        padding=\"same\",\n",
    "        kernel_regularizer=l2(0.0005),\n",
    "    )\n",
    ")\n",
    "model.add(Activation(\"relu\"))\n",
    "model.add(BatchNormalization())\n",
    "model.add(MaxPool2D(pool_size=(2, 2), padding=\"valid\"))\n",
    "model.add(Flatten())\n",
    "# layer 6 (Dense layer + dropout)\n",
    "model.add(Dense(units=1024, activation=\"relu\"))\n",
    "model.add(Dropout(0.5))\n",
    "# layer 7 (Dense layers)\n",
    "model.add(Dense(units=1024, activation=\"relu\"))\n",
    "model.add(Dropout(0.5))\n",
    "# layer 8 (softmax output layer)\n",
    "model.add(Dense(units=2, activation=\"softmax\"))"
   ]
  },
  {
   "cell_type": "code",
   "execution_count": 9,
   "metadata": {},
   "outputs": [
    {
     "name": "stdout",
     "output_type": "stream",
     "text": [
      "Model: \"sequential\"\n",
      "_________________________________________________________________\n",
      " Layer (type)                Output Shape              Param #   \n",
      "=================================================================\n",
      " conv2d (Conv2D)             (None, 128, 128, 32)      896       \n",
      "                                                                 \n",
      " activation (Activation)     (None, 128, 128, 32)      0         \n",
      "                                                                 \n",
      " max_pooling2d (MaxPooling2D  (None, 64, 64, 32)       0         \n",
      " )                                                               \n",
      "                                                                 \n",
      " batch_normalization (BatchN  (None, 64, 64, 32)       128       \n",
      " ormalization)                                                   \n",
      "                                                                 \n",
      " conv2d_1 (Conv2D)           (None, 64, 64, 64)        18496     \n",
      "                                                                 \n",
      " activation_1 (Activation)   (None, 64, 64, 64)        0         \n",
      "                                                                 \n",
      " max_pooling2d_1 (MaxPooling  (None, 32, 32, 64)       0         \n",
      " 2D)                                                             \n",
      "                                                                 \n",
      " batch_normalization_1 (Batc  (None, 32, 32, 64)       256       \n",
      " hNormalization)                                                 \n",
      "                                                                 \n",
      " conv2d_2 (Conv2D)           (None, 32, 32, 128)       73856     \n",
      "                                                                 \n",
      " activation_2 (Activation)   (None, 32, 32, 128)       0         \n",
      "                                                                 \n",
      " batch_normalization_2 (Batc  (None, 32, 32, 128)      512       \n",
      " hNormalization)                                                 \n",
      "                                                                 \n",
      " conv2d_3 (Conv2D)           (None, 32, 32, 128)       147584    \n",
      "                                                                 \n",
      " activation_3 (Activation)   (None, 32, 32, 128)       0         \n",
      "                                                                 \n",
      " batch_normalization_3 (Batc  (None, 32, 32, 128)      512       \n",
      " hNormalization)                                                 \n",
      "                                                                 \n",
      " conv2d_4 (Conv2D)           (None, 32, 32, 64)        73792     \n",
      "                                                                 \n",
      " activation_4 (Activation)   (None, 32, 32, 64)        0         \n",
      "                                                                 \n",
      " batch_normalization_4 (Batc  (None, 32, 32, 64)       256       \n",
      " hNormalization)                                                 \n",
      "                                                                 \n",
      " max_pooling2d_2 (MaxPooling  (None, 16, 16, 64)       0         \n",
      " 2D)                                                             \n",
      "                                                                 \n",
      " flatten (Flatten)           (None, 16384)             0         \n",
      "                                                                 \n",
      " dense (Dense)               (None, 1024)              16778240  \n",
      "                                                                 \n",
      " dropout (Dropout)           (None, 1024)              0         \n",
      "                                                                 \n",
      " dense_1 (Dense)             (None, 1024)              1049600   \n",
      "                                                                 \n",
      " dropout_1 (Dropout)         (None, 1024)              0         \n",
      "                                                                 \n",
      " dense_2 (Dense)             (None, 2)                 2050      \n",
      "                                                                 \n",
      "=================================================================\n",
      "Total params: 18,146,178\n",
      "Trainable params: 18,145,346\n",
      "Non-trainable params: 832\n",
      "_________________________________________________________________\n"
     ]
    }
   ],
   "source": [
    "# describe the model breifly (layers, parameters, ...)"
   ]
  },
  {
   "attachments": {},
   "cell_type": "markdown",
   "metadata": {},
   "source": [
    "### Model Training"
   ]
  },
  {
   "cell_type": "code",
   "execution_count": 6,
   "metadata": {},
   "outputs": [
    {
     "name": "stdout",
     "output_type": "stream",
     "text": [
      "Epoch 1/50\n"
     ]
    },
    {
     "name": "stderr",
     "output_type": "stream",
     "text": [
      "2023-05-20 23:17:25.332356: W tensorflow/core/framework/cpu_allocator_impl.cc:82] Allocation of 260702208 exceeds 10% of free system memory.\n",
      "2023-05-20 23:17:25.908378: W tensorflow/core/framework/cpu_allocator_impl.cc:82] Allocation of 67108864 exceeds 10% of free system memory.\n"
     ]
    },
    {
     "name": "stdout",
     "output_type": "stream",
     "text": [
      "21/21 [==============================] - 26s 1s/step - loss: 5.9773 - accuracy: 0.6456 - val_loss: 22.3366 - val_accuracy: 0.5108\n",
      "Epoch 2/50\n",
      "21/21 [==============================] - 23s 1s/step - loss: 2.5428 - accuracy: 0.7821 - val_loss: 25.3890 - val_accuracy: 0.4703\n",
      "Epoch 3/50\n",
      "21/21 [==============================] - 22s 1s/step - loss: 1.8429 - accuracy: 0.8039 - val_loss: 14.6255 - val_accuracy: 0.4865\n",
      "Epoch 4/50\n",
      "21/21 [==============================] - 23s 1s/step - loss: 1.5599 - accuracy: 0.8167 - val_loss: 5.3394 - val_accuracy: 0.6054\n",
      "Epoch 5/50\n",
      "21/21 [==============================] - 22s 1s/step - loss: 1.0542 - accuracy: 0.8499 - val_loss: 3.0725 - val_accuracy: 0.5324\n",
      "Epoch 6/50\n",
      "21/21 [==============================] - 22s 1s/step - loss: 1.0120 - accuracy: 0.8582 - val_loss: 2.9084 - val_accuracy: 0.6486\n",
      "Epoch 7/50\n",
      "21/21 [==============================] - 22s 1s/step - loss: 0.8804 - accuracy: 0.8710 - val_loss: 1.7829 - val_accuracy: 0.7486\n",
      "Epoch 8/50\n",
      "21/21 [==============================] - 22s 1s/step - loss: 0.4993 - accuracy: 0.9193 - val_loss: 2.2815 - val_accuracy: 0.7622\n",
      "Epoch 9/50\n",
      "21/21 [==============================] - 23s 1s/step - loss: 0.4567 - accuracy: 0.9253 - val_loss: 1.8608 - val_accuracy: 0.6730\n",
      "Epoch 10/50\n",
      "21/21 [==============================] - 23s 1s/step - loss: 0.4275 - accuracy: 0.9374 - val_loss: 1.2164 - val_accuracy: 0.7838\n",
      "Epoch 11/50\n",
      "21/21 [==============================] - 23s 1s/step - loss: 0.4023 - accuracy: 0.9449 - val_loss: 1.6126 - val_accuracy: 0.7459\n",
      "Epoch 12/50\n",
      "21/21 [==============================] - 22s 1s/step - loss: 0.3925 - accuracy: 0.9389 - val_loss: 1.0848 - val_accuracy: 0.8054\n",
      "Epoch 13/50\n",
      "21/21 [==============================] - 22s 1s/step - loss: 0.3321 - accuracy: 0.9600 - val_loss: 1.5936 - val_accuracy: 0.7784\n",
      "Epoch 14/50\n",
      "21/21 [==============================] - 21s 1s/step - loss: 0.2832 - accuracy: 0.9668 - val_loss: 1.1206 - val_accuracy: 0.8135\n",
      "Epoch 15/50\n",
      "21/21 [==============================] - 22s 1s/step - loss: 0.2903 - accuracy: 0.9646 - val_loss: 1.4785 - val_accuracy: 0.7649\n",
      "Epoch 16/50\n",
      "21/21 [==============================] - 21s 1s/step - loss: 0.2228 - accuracy: 0.9849 - val_loss: 0.9320 - val_accuracy: 0.8351\n",
      "Epoch 17/50\n",
      "21/21 [==============================] - 22s 1s/step - loss: 0.2491 - accuracy: 0.9789 - val_loss: 1.7778 - val_accuracy: 0.7757\n",
      "Epoch 18/50\n",
      "21/21 [==============================] - 22s 1s/step - loss: 0.2437 - accuracy: 0.9789 - val_loss: 0.9619 - val_accuracy: 0.8541\n",
      "Epoch 19/50\n",
      "21/21 [==============================] - 22s 1s/step - loss: 0.2351 - accuracy: 0.9774 - val_loss: 1.4166 - val_accuracy: 0.7514\n",
      "Epoch 20/50\n",
      "21/21 [==============================] - 22s 1s/step - loss: 0.2813 - accuracy: 0.9691 - val_loss: 1.3627 - val_accuracy: 0.7946\n",
      "Epoch 21/50\n",
      "21/21 [==============================] - 21s 1s/step - loss: 0.2428 - accuracy: 0.9744 - val_loss: 1.3537 - val_accuracy: 0.8324\n",
      "Epoch 22/50\n",
      "21/21 [==============================] - 21s 997ms/step - loss: 0.2231 - accuracy: 0.9864 - val_loss: 1.4125 - val_accuracy: 0.8243\n",
      "Epoch 23/50\n",
      "21/21 [==============================] - 21s 1s/step - loss: 0.2343 - accuracy: 0.9872 - val_loss: 0.9890 - val_accuracy: 0.8541\n",
      "Epoch 24/50\n",
      "21/21 [==============================] - 21s 1s/step - loss: 0.2130 - accuracy: 0.9827 - val_loss: 1.4291 - val_accuracy: 0.8108\n",
      "Epoch 25/50\n",
      "21/21 [==============================] - 22s 1s/step - loss: 0.2284 - accuracy: 0.9804 - val_loss: 2.1259 - val_accuracy: 0.7946\n",
      "Epoch 26/50\n",
      "21/21 [==============================] - 22s 1s/step - loss: 0.2383 - accuracy: 0.9789 - val_loss: 2.1291 - val_accuracy: 0.7973\n",
      "Epoch 27/50\n",
      "21/21 [==============================] - 23s 1s/step - loss: 0.2201 - accuracy: 0.9834 - val_loss: 3.3421 - val_accuracy: 0.7486\n",
      "Epoch 28/50\n",
      "21/21 [==============================] - 22s 1s/step - loss: 0.2203 - accuracy: 0.9789 - val_loss: 1.8281 - val_accuracy: 0.7486\n",
      "Epoch 29/50\n",
      "21/21 [==============================] - 22s 1s/step - loss: 0.2156 - accuracy: 0.9842 - val_loss: 1.0893 - val_accuracy: 0.8405\n",
      "Epoch 30/50\n",
      "21/21 [==============================] - 23s 1s/step - loss: 0.1818 - accuracy: 0.9917 - val_loss: 1.0715 - val_accuracy: 0.8649\n",
      "Epoch 31/50\n",
      "21/21 [==============================] - 23s 1s/step - loss: 0.2211 - accuracy: 0.9811 - val_loss: 2.6251 - val_accuracy: 0.6730\n",
      "Epoch 32/50\n",
      "21/21 [==============================] - 23s 1s/step - loss: 0.2757 - accuracy: 0.9751 - val_loss: 1.7509 - val_accuracy: 0.8243\n",
      "Epoch 33/50\n",
      "21/21 [==============================] - 23s 1s/step - loss: 0.2347 - accuracy: 0.9819 - val_loss: 1.8126 - val_accuracy: 0.7351\n",
      "Epoch 34/50\n",
      "21/21 [==============================] - 22s 1s/step - loss: 0.2032 - accuracy: 0.9872 - val_loss: 3.5161 - val_accuracy: 0.7757\n",
      "Epoch 35/50\n",
      "21/21 [==============================] - 22s 1s/step - loss: 0.2161 - accuracy: 0.9819 - val_loss: 1.7711 - val_accuracy: 0.8108\n",
      "Epoch 36/50\n",
      "21/21 [==============================] - 21s 1s/step - loss: 0.2343 - accuracy: 0.9766 - val_loss: 9.1698 - val_accuracy: 0.6703\n",
      "Epoch 37/50\n",
      "21/21 [==============================] - 21s 1s/step - loss: 0.3004 - accuracy: 0.9744 - val_loss: 1.9539 - val_accuracy: 0.8135\n",
      "Epoch 38/50\n",
      "21/21 [==============================] - 22s 1s/step - loss: 0.2265 - accuracy: 0.9842 - val_loss: 1.5299 - val_accuracy: 0.7541\n",
      "Epoch 39/50\n",
      "21/21 [==============================] - 22s 1s/step - loss: 0.2163 - accuracy: 0.9827 - val_loss: 1.7860 - val_accuracy: 0.8000\n",
      "Epoch 40/50\n",
      "21/21 [==============================] - 22s 1s/step - loss: 0.1962 - accuracy: 0.9849 - val_loss: 2.1569 - val_accuracy: 0.8243\n",
      "Epoch 41/50\n",
      "21/21 [==============================] - 22s 1s/step - loss: 0.1964 - accuracy: 0.9887 - val_loss: 1.6739 - val_accuracy: 0.7676\n",
      "Epoch 42/50\n",
      "21/21 [==============================] - 22s 1s/step - loss: 0.1771 - accuracy: 0.9872 - val_loss: 1.4430 - val_accuracy: 0.8027\n",
      "Epoch 43/50\n",
      "21/21 [==============================] - 23s 1s/step - loss: 0.1606 - accuracy: 0.9955 - val_loss: 2.1026 - val_accuracy: 0.7216\n",
      "Epoch 44/50\n",
      "21/21 [==============================] - 22s 1s/step - loss: 0.1550 - accuracy: 0.9970 - val_loss: 1.7177 - val_accuracy: 0.7568\n",
      "Epoch 45/50\n",
      "21/21 [==============================] - 22s 1s/step - loss: 0.2088 - accuracy: 0.9940 - val_loss: 1.3292 - val_accuracy: 0.8351\n",
      "Epoch 46/50\n",
      "21/21 [==============================] - 22s 1s/step - loss: 0.2549 - accuracy: 0.9864 - val_loss: 3.6573 - val_accuracy: 0.7568\n",
      "Epoch 47/50\n",
      "21/21 [==============================] - 23s 1s/step - loss: 0.2199 - accuracy: 0.9811 - val_loss: 3.5293 - val_accuracy: 0.7189\n",
      "Epoch 48/50\n",
      "21/21 [==============================] - 23s 1s/step - loss: 0.2134 - accuracy: 0.9849 - val_loss: 5.8083 - val_accuracy: 0.7108\n",
      "Epoch 49/50\n",
      "21/21 [==============================] - 23s 1s/step - loss: 0.2108 - accuracy: 0.9872 - val_loss: 12.7137 - val_accuracy: 0.6568\n",
      "Epoch 50/50\n",
      "21/21 [==============================] - 24s 1s/step - loss: 0.1923 - accuracy: 0.9834 - val_loss: 5.1286 - val_accuracy: 0.7865\n"
     ]
    }
   ],
   "source": [
    "model.compile(\n",
    "    loss=\"categorical_crossentropy\",\n",
    "    optimizer=\"adam\",\n",
    "    metrics=[\"accuracy\"]\n",
    ")\n",
    "\n",
    "history = model.fit(\n",
    "    X_train_aug, y_train_aug,\n",
    "    batch_size=64,\n",
    "    epochs=50,\n",
    "    validation_data=(X_val_aug, y_val_aug)\n",
    ")"
   ]
  },
  {
   "attachments": {},
   "cell_type": "markdown",
   "metadata": {},
   "source": [
    "## Evaluation"
   ]
  },
  {
   "cell_type": "code",
   "execution_count": 7,
   "metadata": {},
   "outputs": [
    {
     "name": "stdout",
     "output_type": "stream",
     "text": [
      "Accuracy:  0.8324324324324325\n",
      "F1 score:  0.8242145593869732\n",
      "Precision:  0.8732690741243552\n",
      "Recall:  0.8224841660802251\n",
      "Omission error:  0.17751583391977488\n",
      "Commission error:  0.12673092587564483\n"
     ]
    },
    {
     "data": {
      "image/png": "[encoded data removed]",
      "text/plain": [
       "<Figure size 640x480 with 2 Axes>"
      ]
     },
     "metadata": {},
     "output_type": "display_data"
    }
   ],
   "source": [
    "evaluate_model(model, X_val, y_val)"
   ]
  },
  {
   "attachments": {},
   "cell_type": "markdown",
   "metadata": {},
   "source": [
    "### Another Architecture"
   ]
  },
  {
   "cell_type": "code",
   "execution_count": 8,
   "metadata": {},
   "outputs": [],
   "source": [
    "# model = Sequential()\n",
    "# # 1st layer (CONV + pool + batchnorm)\n",
    "# model.add(\n",
    "#     Conv2D(\n",
    "#         filters=96,\n",
    "#         kernel_size=(11, 11),\n",
    "#         strides=(4, 4),\n",
    "#         padding=\"valid\",\n",
    "#         input_shape=(227, 227, 3),\n",
    "#     )\n",
    "# )\n",
    "# model.add(Activation(\"relu\"))\n",
    "# model.add(MaxPool2D(pool_size=(3, 3), strides=(2, 2)))\n",
    "# model.add(BatchNormalization())\n",
    "# # 2nd layer (CONV + pool + batchnorm)\n",
    "# model.add(\n",
    "#     Conv2D(\n",
    "#         filters=256,\n",
    "#         kernel_size=(5, 5),\n",
    "#         strides=(1, 1),\n",
    "#         padding=\"same\",\n",
    "#         kernel_regularizer=l2(0.0005),\n",
    "#     )\n",
    "# )\n",
    "# model.add(Activation(\"relu\"))\n",
    "# model.add(MaxPool2D(pool_size=(3, 3), strides=(2, 2), padding=\"valid\"))\n",
    "# model.add(BatchNormalization())\n",
    "# # layer 3 (CONV + batchnorm)\n",
    "# model.add(\n",
    "#     Conv2D(\n",
    "#         filters=384,\n",
    "#         kernel_size=(3, 3),\n",
    "#         strides=(1, 1),\n",
    "#         padding=\"same\",\n",
    "#         kernel_regularizer=l2(0.0005),\n",
    "#     )\n",
    "# )\n",
    "# model.add(Activation(\"relu\"))\n",
    "# model.add(BatchNormalization())\n",
    "# # layer 4 (CONV + batchnorm)\n",
    "# model.add(\n",
    "#     Conv2D(\n",
    "#         filters=384,\n",
    "#         kernel_size=(3, 3),\n",
    "#         strides=(1, 1),\n",
    "#         padding=\"same\",\n",
    "#         kernel_regularizer=l2(0.0005),\n",
    "#     )\n",
    "# )\n",
    "# model.add(Activation(\"relu\"))\n",
    "# model.add(BatchNormalization())\n",
    "# # layer 5 (CONV + batchnorm)\n",
    "# model.add(\n",
    "#     Conv2D(\n",
    "#         filters=256,\n",
    "#         kernel_size=(3, 3),\n",
    "#         strides=(1, 1),\n",
    "#         padding=\"same\",\n",
    "#         kernel_regularizer=l2(0.0005),\n",
    "#     )\n",
    "# )\n",
    "# model.add(Activation(\"relu\"))\n",
    "# model.add(BatchNormalization())\n",
    "# model.add(MaxPool2D(pool_size=(3, 3), strides=(2, 2), padding=\"valid\"))\n",
    "# model.add(Flatten())\n",
    "# # layer 6 (Dense layer + dropout)\n",
    "# model.add(Dense(units=4096, activation=\"relu\"))\n",
    "# model.add(Dropout(0.5))\n",
    "# # layer 7 (Dense layers)\n",
    "# model.add(Dense(units=4096, activation=\"relu\"))\n",
    "# model.add(Dropout(0.5))\n",
    "# # layer 8 (softmax output layer)\n",
    "# model.add(Dense(units=2, activation=\"softmax\"))"
   ]
  }
 ],
 "metadata": {
  "kernelspec": {
   "display_name": "Python 3 (ipykernel)",
   "language": "python",
   "name": "python3"
  },
  "language_info": {
   "codemirror_mode": {
    "name": "ipython",
    "version": 3
   },
   "file_extension": ".py",
   "mimetype": "text/x-python",
   "name": "python",
   "nbconvert_exporter": "python",
   "pygments_lexer": "ipython3",
   "version": "3.10.6"
  }
 },
 "nbformat": 4,
 "nbformat_minor": 2
}
