{
 "cells": [
  {
   "attachments": {},
   "cell_type": "markdown",
   "metadata": {},
   "source": [
    "## Imports"
   ]
  },
  {
   "cell_type": "code",
   "execution_count": 97,
   "metadata": {},
   "outputs": [],
   "source": [
    "import os\n",
    "import cv2\n",
    "import numpy as np\n",
    "import matplotlib.pyplot as plt\n",
    "from skimage.feature import graycomatrix, graycoprops , local_binary_pattern\n",
    "from sklearn.model_selection import train_test_split\n",
    "from sklearn.ensemble import RandomForestClassifier , AdaBoostClassifier\n",
    "from sklearn.naive_bayes import GaussianNB\n",
    "from sklearn.svm import SVC\n",
    "import xgboost as xgb\n",
    "from sklearn.metrics import accuracy_score , classification_report , confusion_matrix , f1_score , precision_score , recall_score\n",
    "import seaborn as sns"
   ]
  },
  {
   "attachments": {},
   "cell_type": "markdown",
   "metadata": {},
   "source": [
    "## Reading Data"
   ]
  },
  {
   "cell_type": "code",
   "execution_count": 98,
   "metadata": {},
   "outputs": [],
   "source": [
    "\n",
    "CLASSES = [\"flooded\", \"non-flooded\"]\n",
    "def load_data(data_path):\n",
    "    data = []\n",
    "    labels = []\n",
    "    for c in CLASSES:\n",
    "        path = os.path.join(data_path, c)\n",
    "        for img in os.listdir(path):\n",
    "            img_array = cv2.imread(os.path.join(path,img))\n",
    "            img_array = cv2.cvtColor(img_array, cv2.COLOR_BGR2RGB)\n",
    "            img_array = cv2.resize(img_array, (512, 512))\n",
    "            data.append(img_array)\n",
    "            labels.append(CLASSES.index(c))\n",
    "    return data, labels\n",
    "\n",
    "# Load data\n",
    "data, labels = load_data(\"./Dataset\")"
   ]
  },
  {
   "attachments": {},
   "cell_type": "markdown",
   "metadata": {},
   "source": [
    "## Splitting Data"
   ]
  },
  {
   "cell_type": "code",
   "execution_count": 99,
   "metadata": {},
   "outputs": [],
   "source": [
    "X_train, X_val, y_train, y_val = train_test_split(data, labels, test_size=0.15, random_state=42)\n",
    "#X_train, X_test, y_train, y_test = train_test_split(X_train, y_train, test_size=0.1, random_state=42)\n",
    "\n",
    "X_train = np.array(X_train)\n",
    "X_val = np.array(X_val)\n",
    "y_train = np.array(y_train)\n",
    "y_val = np.array(y_val)\n",
    "\n",
    "# X_test = np.array(X_test)\n",
    "# y_test = np.array(y_test)"
   ]
  },
  {
   "attachments": {},
   "cell_type": "markdown",
   "metadata": {},
   "source": [
    "## Preprocessing"
   ]
  },
  {
   "cell_type": "code",
   "execution_count": 100,
   "metadata": {},
   "outputs": [],
   "source": [
    "# contrast enhancement\n",
    "def contrast_enhancement(img):\n",
    "    # Split the image into individual channels\n",
    "    channels = cv2.split(img)\n",
    "\n",
    "    # Apply histogram equalization to each channel\n",
    "    equalized_channels = []\n",
    "    for channel in channels:\n",
    "        equalized_channel = cv2.equalizeHist(channel)\n",
    "        equalized_channels.append(equalized_channel)\n",
    "\n",
    "    # Merge the equalized channels back into an RGB image\n",
    "    equalized_image = cv2.merge(equalized_channels)\n",
    "    return equalized_image  \n",
    "\n",
    "def preprocess_images(images):\n",
    "    processed_images = []\n",
    "    for image in images:\n",
    "        image = contrast_enhancement(image)\n",
    "        processed_images.append(image)\n",
    "    return np.array(processed_images)\n",
    "\n",
    "X_train = preprocess_images(X_train)\n",
    "X_val = preprocess_images(X_val)\n",
    "#X_test = preprocess_images(X_test)"
   ]
  },
  {
   "attachments": {},
   "cell_type": "markdown",
   "metadata": {},
   "source": [
    "## Features Extraction"
   ]
  },
  {
   "cell_type": "code",
   "execution_count": 101,
   "metadata": {},
   "outputs": [
    {
     "name": "stdout",
     "output_type": "stream",
     "text": [
      "(783, 19)\n",
      "(139, 19)\n"
     ]
    }
   ],
   "source": [
    "def water_index(img):\n",
    "    water_idx = (img[:,:,1] - img[:,:,0]) / (img[:,:,1] + img[:,:,0]+0.000000001)\n",
    "    water_idx = np.array(water_idx)\n",
    "    avg_water_idx = np.mean(water_idx)\n",
    "    return avg_water_idx\n",
    "\n",
    "def GLCM(img):\n",
    "    img = cv2.cvtColor(img, cv2.COLOR_RGB2GRAY)\n",
    "    glcm = graycomatrix(img, distances=[5], angles=[0], levels=256, symmetric=True, normed=True)\n",
    "    contrast = graycoprops(glcm, 'contrast')\n",
    "    dissimilarity = graycoprops(glcm, 'dissimilarity')\n",
    "    homogeneity = graycoprops(glcm, 'homogeneity')\n",
    "    energy = graycoprops(glcm, 'energy')\n",
    "    correlation = graycoprops(glcm, 'correlation')\n",
    "\n",
    "    avg_contrast = np.mean(contrast)\n",
    "    avg_dissimilarity = np.mean(dissimilarity)\n",
    "    avg_homogeneity = np.mean(homogeneity)\n",
    "    avg_energy = np.mean(energy)\n",
    "    avg_correlation = np.mean(correlation)\n",
    "\n",
    "    return avg_contrast, avg_dissimilarity, avg_homogeneity, avg_energy, avg_correlation\n",
    "\n",
    "\n",
    "def color_histogram(img):\n",
    "    img = cv2.cvtColor(img, cv2.COLOR_RGB2HSV)\n",
    "    hist = cv2.calcHist([img], [0, 1, 2], None, [8, 8, 8], [0, 256, 0, 256, 0, 256])\n",
    "    hist = cv2.normalize(hist, hist).flatten()\n",
    "    pixels = img.reshape(-1, 3)\n",
    "\n",
    "    k = 5\n",
    "    criteria = (cv2.TERM_CRITERIA_EPS + cv2.TERM_CRITERIA_MAX_ITER, 10, 1.0)\n",
    "    flags = cv2.KMEANS_RANDOM_CENTERS\n",
    "    _, labels, centers = cv2.kmeans(pixels.astype(np.float32), k, None, criteria, 10, flags)\n",
    "\n",
    "    hist, _ = np.histogram(labels, bins=np.arange(k+1))\n",
    "    hist = hist / float(hist.sum())\n",
    "\n",
    "    return hist\n",
    "\n",
    "def extract_lbp(image):\n",
    "    gray = cv2.cvtColor(image, cv2.COLOR_BGR2GRAY)\n",
    "    lbp = local_binary_pattern(gray, 8 , 3)\n",
    "    hist, _ = np.histogram(lbp.ravel(), bins=np.linspace(0, 255, 257))\n",
    "    bins = np.array_split(hist, 8)\n",
    "    features = [np.sum(b) for b in bins]\n",
    "    return features\n",
    "\n",
    "def extract_features(images):\n",
    "    features = []\n",
    "    for img in images:\n",
    "        water_idx = water_index(img)\n",
    "        contrast, dissimilarity, homogeneity, energy, correlation = GLCM(img)\n",
    "        hist = color_histogram(img)\n",
    "        lbp = extract_lbp(img)\n",
    "        features.append([water_idx, contrast, dissimilarity, homogeneity, energy, correlation,lbp[0], lbp[1], lbp[2], lbp[3], lbp[4], lbp[5], lbp[6], lbp[7], hist[0], hist[1], hist[2], hist[3], hist[4]])\n",
    "    features = np.array(features)   \n",
    "    return features\n",
    "\n",
    "X_train_features = extract_features(X_train)\n",
    "X_val_features = extract_features(X_val)\n",
    "#X_test_features = extract_features(X_test)\n",
    "\n",
    "print(X_train_features.shape)\n",
    "print(X_val_features.shape)\n",
    "#print(X_test_features.shape)\n"
   ]
  },
  {
   "attachments": {},
   "cell_type": "markdown",
   "metadata": {},
   "source": [
    "## Models Training"
   ]
  },
  {
   "cell_type": "code",
   "execution_count": 102,
   "metadata": {},
   "outputs": [],
   "source": [
    "models = [RandomForestClassifier(n_estimators=80, max_depth=8, random_state=42) , AdaBoostClassifier(n_estimators=100 ,learning_rate=0.2 , random_state=42) , GaussianNB(), xgb.XGBClassifier(max_depth=15 , n_estimators=150 , learning_rate=0.2, random_state=42)]\n",
    "modelsNames = ['Random Forest' , 'AdaBoost' , 'Naive Bayes' , 'XGBoost']\n",
    "for i , model in enumerate(models):\n",
    "    if modelsNames[i] == 'Naive Bayes':\n",
    "        model.fit(X_train_features[:,1:13], y_train)\n",
    "    else:\n",
    "        model.fit(X_train_features, y_train)"
   ]
  },
  {
   "attachments": {},
   "cell_type": "markdown",
   "metadata": {},
   "source": [
    "## Models Evaluation"
   ]
  },
  {
   "cell_type": "code",
   "execution_count": 103,
   "metadata": {},
   "outputs": [
    {
     "name": "stdout",
     "output_type": "stream",
     "text": [
      "Evauation of Random Forest\n",
      "Accuracy :  0.9136690647482014\n",
      "              precision    recall  f1-score   support\n",
      "\n",
      "           0       0.97      0.87      0.92        78\n",
      "           1       0.86      0.97      0.91        61\n",
      "\n",
      "    accuracy                           0.91       139\n",
      "   macro avg       0.91      0.92      0.91       139\n",
      "weighted avg       0.92      0.91      0.91       139\n",
      "\n",
      "Precision :  0.9132505175983436\n",
      "Recall :  0.9195039932744851\n",
      "Ommision Error :  0.08049600672551493\n",
      "Commission Error :  0.08674948240165636\n",
      "F1 Score :  0.9133056133056132\n",
      "Confusion Matrix : \n",
      "[[68 10]\n",
      " [ 2 59]]\n"
     ]
    },
    {
     "data": {
      "image/png": "[encoded data removed]",
      "text/plain": [
       "<Figure size 640x480 with 2 Axes>"
      ]
     },
     "metadata": {},
     "output_type": "display_data"
    },
    {
     "name": "stdout",
     "output_type": "stream",
     "text": [
      "Evauation of AdaBoost\n",
      "Accuracy :  0.8561151079136691\n",
      "              precision    recall  f1-score   support\n",
      "\n",
      "           0       0.97      0.77      0.86        78\n",
      "           1       0.77      0.97      0.86        61\n",
      "\n",
      "    accuracy                           0.86       139\n",
      "   macro avg       0.87      0.87      0.86       139\n",
      "weighted avg       0.88      0.86      0.86       139\n",
      "\n",
      "Precision :  0.8669878508588187\n",
      "Recall :  0.8682219419924337\n",
      "Ommision Error :  0.13177805800756626\n",
      "Commission Error :  0.1330121491411813\n",
      "F1 Score :  0.8561076604554866\n",
      "Confusion Matrix : \n",
      "[[60 18]\n",
      " [ 2 59]]\n"
     ]
    },
    {
     "data": {
      "image/png": "[encoded data removed]",
      "text/plain": [
       "<Figure size 640x480 with 2 Axes>"
      ]
     },
     "metadata": {},
     "output_type": "display_data"
    },
    {
     "name": "stdout",
     "output_type": "stream",
     "text": [
      "Evauation of Naive Bayes\n",
      "Accuracy :  0.8129496402877698\n",
      "              precision    recall  f1-score   support\n",
      "\n",
      "           0       0.87      0.78      0.82        78\n",
      "           1       0.75      0.85      0.80        61\n",
      "\n",
      "    accuracy                           0.81       139\n",
      "   macro avg       0.81      0.82      0.81       139\n",
      "weighted avg       0.82      0.81      0.81       139\n",
      "\n",
      "Precision :  0.8125258799171843\n",
      "Recall :  0.8172551492223623\n",
      "Ommision Error :  0.1827448507776377\n",
      "Commission Error :  0.18747412008281572\n",
      "F1 Score :  0.8121621621621622\n",
      "Confusion Matrix : \n",
      "[[61 17]\n",
      " [ 9 52]]\n"
     ]
    },
    {
     "data": {
      "image/png": "[encoded data removed]",
      "text/plain": [
       "<Figure size 640x480 with 2 Axes>"
      ]
     },
     "metadata": {},
     "output_type": "display_data"
    },
    {
     "name": "stdout",
     "output_type": "stream",
     "text": [
      "Evauation of XGBoost\n",
      "Accuracy :  0.8992805755395683\n",
      "              precision    recall  f1-score   support\n",
      "\n",
      "           0       0.97      0.85      0.90        78\n",
      "           1       0.83      0.97      0.89        61\n",
      "\n",
      "    accuracy                           0.90       139\n",
      "   macro avg       0.90      0.91      0.90       139\n",
      "weighted avg       0.91      0.90      0.90       139\n",
      "\n",
      "Precision :  0.9007870753935376\n",
      "Recall :  0.9066834804539723\n",
      "Ommision Error :  0.09331651954602771\n",
      "Commission Error :  0.09921292460646236\n",
      "F1 Score :  0.8990244914902449\n",
      "Confusion Matrix : \n",
      "[[66 12]\n",
      " [ 2 59]]\n"
     ]
    },
    {
     "data": {
      "image/png": "[encoded data removed]",
      "text/plain": [
       "<Figure size 640x480 with 2 Axes>"
      ]
     },
     "metadata": {},
     "output_type": "display_data"
    }
   ],
   "source": [
    "for i , model in enumerate(models):\n",
    "    print(\"Evauation of \" + modelsNames[i])\n",
    "\n",
    "    if modelsNames[i] == 'Naive Bayes':\n",
    "        y_pred = model.predict(X_val_features[:,1:13])\n",
    "    else:\n",
    "        y_pred = model.predict(X_val_features)\n",
    "\n",
    "    # accuracy\n",
    "    print(\"Accuracy : \" , accuracy_score(y_val, y_pred))\n",
    "\n",
    "    # classification report\n",
    "    print(classification_report(y_val, y_pred))\n",
    "\n",
    "    # precision\n",
    "    print(\"Precision : \" , precision_score(y_val, y_pred, average='macro'))\n",
    "    \n",
    "    # recall\n",
    "    print(\"Recall : \" , recall_score(y_val, y_pred, average='macro'))\n",
    "\n",
    "    # ommision error\n",
    "    print(\"Ommision Error : \" , 1 - recall_score(y_val, y_pred, average='macro'))\n",
    "\n",
    "    # commission error\n",
    "    print(\"Commission Error : \" , 1 - precision_score(y_val, y_pred, average='macro'))\n",
    "    \n",
    "    # f1 score\n",
    "    print(\"F1 Score : \" , f1_score(y_val, y_pred, average='macro'))\n",
    "\n",
    "    # Confusion matrix\n",
    "    cm = confusion_matrix(y_val, y_pred)\n",
    "    print(\"Confusion Matrix : \")\n",
    "    print(cm)\n",
    "    sns.heatmap(cm, annot=True, fmt='d', cmap='Blues')\n",
    "    plt.show()"
   ]
  },
  {
   "cell_type": "code",
   "execution_count": null,
   "metadata": {},
   "outputs": [],
   "source": []
  }
 ],
 "metadata": {
  "kernelspec": {
   "display_name": "Python 3",
   "language": "python",
   "name": "python3"
  },
  "language_info": {
   "codemirror_mode": {
    "name": "ipython",
    "version": 3
   },
   "file_extension": ".py",
   "mimetype": "text/x-python",
   "name": "python",
   "nbconvert_exporter": "python",
   "pygments_lexer": "ipython3",
   "version": "3.9.7"
  },
  "orig_nbformat": 4
 },
 "nbformat": 4,
 "nbformat_minor": 2
}
