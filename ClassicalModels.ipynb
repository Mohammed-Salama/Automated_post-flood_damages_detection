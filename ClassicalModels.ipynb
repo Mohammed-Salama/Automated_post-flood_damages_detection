{
 "cells": [
  {
   "attachments": {},
   "cell_type": "markdown",
   "metadata": {},
   "source": [
    "## Imports"
   ]
  },
  {
   "cell_type": "code",
   "execution_count": 8,
   "metadata": {},
   "outputs": [],
   "source": [
    "import os\n",
    "import cv2\n",
    "import numpy as np\n",
    "import matplotlib.pyplot as plt\n",
    "from skimage.feature import graycomatrix, graycoprops , local_binary_pattern\n",
    "from sklearn.model_selection import train_test_split\n",
    "from sklearn.ensemble import RandomForestClassifier , AdaBoostClassifier\n",
    "from sklearn.naive_bayes import GaussianNB\n",
    "from sklearn.svm import SVC\n",
    "import xgboost as xgb\n",
    "from sklearn.metrics import accuracy_score , classification_report , confusion_matrix , f1_score , precision_score , recall_score\n",
    "import seaborn as sns"
   ]
  },
  {
   "attachments": {},
   "cell_type": "markdown",
   "metadata": {},
   "source": [
    "## Reading Data"
   ]
  },
  {
   "cell_type": "code",
   "execution_count": 9,
   "metadata": {},
   "outputs": [],
   "source": [
    "\n",
    "CLASSES = [\"flooded\", \"non-flooded\"]\n",
    "def load_data(data_path):\n",
    "    data = []\n",
    "    labels = []\n",
    "    for c in CLASSES:\n",
    "        path = os.path.join(data_path, c)\n",
    "        for img in os.listdir(path):\n",
    "            img_array = cv2.imread(os.path.join(path,img))\n",
    "            img_array = cv2.cvtColor(img_array, cv2.COLOR_BGR2RGB)\n",
    "            img_array = cv2.resize(img_array, (227, 227))\n",
    "            data.append(img_array)\n",
    "            labels.append(CLASSES.index(c))\n",
    "    return data, labels\n",
    "\n",
    "# Load data\n",
    "data, labels = load_data(\"./Dataset\")"
   ]
  },
  {
   "attachments": {},
   "cell_type": "markdown",
   "metadata": {},
   "source": [
    "## Splitting Data"
   ]
  },
  {
   "cell_type": "code",
   "execution_count": 10,
   "metadata": {},
   "outputs": [],
   "source": [
    "X_train, X_val, y_train, y_val = train_test_split(data, labels, test_size=0.2, random_state=42)\n",
    "X_train, X_test, y_train, y_test = train_test_split(X_train, y_train, test_size=0.1, random_state=42)\n",
    "\n",
    "X_train = np.array(X_train)\n",
    "X_val = np.array(X_val)\n",
    "y_train = np.array(y_train)\n",
    "y_val = np.array(y_val)\n",
    "\n",
    "X_test = np.array(X_test)\n",
    "y_test = np.array(y_test)"
   ]
  },
  {
   "attachments": {},
   "cell_type": "markdown",
   "metadata": {},
   "source": [
    "## Preprocessing"
   ]
  },
  {
   "cell_type": "code",
   "execution_count": 11,
   "metadata": {},
   "outputs": [],
   "source": [
    "# contrast enhancement\n",
    "def contrast_enhancement(img):\n",
    "    # Split the image into individual channels\n",
    "    channels = cv2.split(img)\n",
    "\n",
    "    # Apply histogram equalization to each channel\n",
    "    equalized_channels = []\n",
    "    for channel in channels:\n",
    "        equalized_channel = cv2.equalizeHist(channel)\n",
    "        equalized_channels.append(equalized_channel)\n",
    "\n",
    "    # Merge the equalized channels back into an RGB image\n",
    "    equalized_image = cv2.merge(equalized_channels)\n",
    "    return equalized_image  \n",
    "\n",
    "def preprocess_images(images):\n",
    "    processed_images = []\n",
    "    for image in images:\n",
    "        image = contrast_enhancement(image)\n",
    "        processed_images.append(image)\n",
    "    return np.array(processed_images)\n",
    "\n",
    "X_train = preprocess_images(X_train)\n",
    "X_val = preprocess_images(X_val)\n",
    "X_test = preprocess_images(X_test)"
   ]
  },
  {
   "attachments": {},
   "cell_type": "markdown",
   "metadata": {},
   "source": [
    "## Features Extraction"
   ]
  },
  {
   "cell_type": "code",
   "execution_count": 12,
   "metadata": {},
   "outputs": [
    {
     "name": "stdout",
     "output_type": "stream",
     "text": [
      "(663, 19)\n",
      "(185, 19)\n",
      "(74, 19)\n"
     ]
    }
   ],
   "source": [
    "def water_index(img):\n",
    "    water_idx = (img[:,:,1] - img[:,:,0]) / (img[:,:,1] + img[:,:,0]+0.000000001)\n",
    "    water_idx = np.array(water_idx)\n",
    "    avg_water_idx = np.mean(water_idx)\n",
    "    return avg_water_idx\n",
    "\n",
    "def GLCM(img):\n",
    "    img = cv2.cvtColor(img, cv2.COLOR_RGB2GRAY)\n",
    "    glcm = graycomatrix(img, distances=[5], angles=[0], levels=256, symmetric=True, normed=True)\n",
    "    contrast = graycoprops(glcm, 'contrast')\n",
    "    dissimilarity = graycoprops(glcm, 'dissimilarity')\n",
    "    homogeneity = graycoprops(glcm, 'homogeneity')\n",
    "    energy = graycoprops(glcm, 'energy')\n",
    "    correlation = graycoprops(glcm, 'correlation')\n",
    "\n",
    "    avg_contrast = np.mean(contrast)\n",
    "    avg_dissimilarity = np.mean(dissimilarity)\n",
    "    avg_homogeneity = np.mean(homogeneity)\n",
    "    avg_energy = np.mean(energy)\n",
    "    avg_correlation = np.mean(correlation)\n",
    "\n",
    "    return avg_contrast, avg_dissimilarity, avg_homogeneity, avg_energy, avg_correlation\n",
    "\n",
    "\n",
    "def color_histogram(img):\n",
    "    img = cv2.cvtColor(img, cv2.COLOR_RGB2HSV)\n",
    "    hist = cv2.calcHist([img], [0, 1, 2], None, [8, 8, 8], [0, 256, 0, 256, 0, 256])\n",
    "    hist = cv2.normalize(hist, hist).flatten()\n",
    "    pixels = img.reshape(-1, 3)\n",
    "\n",
    "    k = 5\n",
    "    criteria = (cv2.TERM_CRITERIA_EPS + cv2.TERM_CRITERIA_MAX_ITER, 10, 1.0)\n",
    "    flags = cv2.KMEANS_RANDOM_CENTERS\n",
    "    _, labels, centers = cv2.kmeans(pixels.astype(np.float32), k, None, criteria, 10, flags)\n",
    "\n",
    "    hist, _ = np.histogram(labels, bins=np.arange(k+1))\n",
    "    hist = hist / float(hist.sum())\n",
    "\n",
    "    return hist\n",
    "\n",
    "def extract_lbp(image):\n",
    "    gray = cv2.cvtColor(image, cv2.COLOR_BGR2GRAY)\n",
    "    lbp = local_binary_pattern(gray, 8 , 3)\n",
    "    hist, _ = np.histogram(lbp.ravel(), bins=np.linspace(0, 255, 257))\n",
    "    bins = np.array_split(hist, 8)\n",
    "    features = [np.sum(b) for b in bins]\n",
    "    return features\n",
    "\n",
    "def extract_features(images):\n",
    "    features = []\n",
    "    for img in images:\n",
    "        water_idx = water_index(img)\n",
    "        contrast, dissimilarity, homogeneity, energy, correlation = GLCM(img)\n",
    "        hist = color_histogram(img)\n",
    "        lbp = extract_lbp(img)\n",
    "        features.append([water_idx, contrast, dissimilarity, homogeneity, energy, correlation, hist[0], hist[1], hist[2], hist[3], hist[4] , lbp[0], lbp[1], lbp[2], lbp[3], lbp[4], lbp[5], lbp[6], lbp[7]])\n",
    "    features = np.array(features)   \n",
    "    return features\n",
    "\n",
    "X_train_features = extract_features(X_train)\n",
    "X_val_features = extract_features(X_val)\n",
    "X_test_features = extract_features(X_test)\n",
    "\n",
    "print(X_train_features.shape)\n",
    "print(X_val_features.shape)\n",
    "print(X_test_features.shape)\n"
   ]
  },
  {
   "attachments": {},
   "cell_type": "markdown",
   "metadata": {},
   "source": [
    "## Models Training"
   ]
  },
  {
   "cell_type": "code",
   "execution_count": 15,
   "metadata": {},
   "outputs": [],
   "source": [
    "models = [RandomForestClassifier(n_estimators=150, max_depth=8, random_state=0) , AdaBoostClassifier(n_estimators=100, random_state=0) , GaussianNB(), xgb.XGBClassifier(max_depth=3)]\n",
    "modelsNames = ['Random Forest' , 'AdaBoost' , 'Naive Bayes' , 'XGBoost']\n",
    "for model in models:\n",
    "    model.fit(X_train_features, y_train)"
   ]
  },
  {
   "attachments": {},
   "cell_type": "markdown",
   "metadata": {},
   "source": [
    "## Models Evaluation"
   ]
  },
  {
   "cell_type": "code",
   "execution_count": 14,
   "metadata": {},
   "outputs": [
    {
     "name": "stdout",
     "output_type": "stream",
     "text": [
      "Evauation of Random Forest\n",
      "Accuracy :  0.8756756756756757\n",
      "              precision    recall  f1-score   support\n",
      "\n",
      "           0       0.93      0.83      0.88        98\n",
      "           1       0.83      0.93      0.88        87\n",
      "\n",
      "    accuracy                           0.88       185\n",
      "   macro avg       0.88      0.88      0.88       185\n",
      "weighted avg       0.88      0.88      0.88       185\n",
      "\n",
      "Precision :  0.8787825475017593\n",
      "Recall :  0.8787825475017593\n",
      "Ommision Error :  0.12121745249824067\n",
      "Commission Error :  0.12121745249824067\n",
      "F1 Score :  0.8756756756756757\n",
      "Confusion Matrix : \n",
      "[[81 17]\n",
      " [ 6 81]]\n"
     ]
    },
    {
     "data": {
      "image/png": "[encoded data removed]",
      "text/plain": [
       "<Figure size 640x480 with 2 Axes>"
      ]
     },
     "metadata": {},
     "output_type": "display_data"
    },
    {
     "name": "stdout",
     "output_type": "stream",
     "text": [
      "Evauation of AdaBoost\n",
      "Accuracy :  0.8810810810810811\n",
      "              precision    recall  f1-score   support\n",
      "\n",
      "           0       0.91      0.86      0.88        98\n",
      "           1       0.85      0.91      0.88        87\n",
      "\n",
      "    accuracy                           0.88       185\n",
      "   macro avg       0.88      0.88      0.88       185\n",
      "weighted avg       0.88      0.88      0.88       185\n",
      "\n",
      "Precision :  0.8812529219261337\n",
      "Recall :  0.8825944170771757\n",
      "Ommision Error :  0.11740558292282433\n",
      "Commission Error :  0.11874707807386631\n",
      "F1 Score :  0.8809941520467837\n",
      "Confusion Matrix : \n",
      "[[84 14]\n",
      " [ 8 79]]\n"
     ]
    },
    {
     "data": {
      "image/png": "[encoded data removed]",
      "text/plain": [
       "<Figure size 640x480 with 2 Axes>"
      ]
     },
     "metadata": {},
     "output_type": "display_data"
    },
    {
     "name": "stdout",
     "output_type": "stream",
     "text": [
      "Evauation of Naive Bayes\n",
      "Accuracy :  0.6486486486486487\n",
      "              precision    recall  f1-score   support\n",
      "\n",
      "           0       0.75      0.50      0.60        98\n",
      "           1       0.59      0.82      0.69        87\n",
      "\n",
      "    accuracy                           0.65       185\n",
      "   macro avg       0.67      0.66      0.64       185\n",
      "weighted avg       0.68      0.65      0.64       185\n",
      "\n",
      "Precision :  0.6727564102564103\n",
      "Recall :  0.6580459770114943\n",
      "Ommision Error :  0.34195402298850575\n",
      "Commission Error :  0.3272435897435897\n",
      "F1 Score :  0.643608666014641\n",
      "Confusion Matrix : \n",
      "[[49 49]\n",
      " [16 71]]\n"
     ]
    },
    {
     "data": {
      "image/png": "[encoded data removed]",
      "text/plain": [
       "<Figure size 640x480 with 2 Axes>"
      ]
     },
     "metadata": {},
     "output_type": "display_data"
    },
    {
     "name": "stdout",
     "output_type": "stream",
     "text": [
      "Evauation of XGBoost\n",
      "Accuracy :  0.8702702702702703\n",
      "              precision    recall  f1-score   support\n",
      "\n",
      "           0       0.93      0.82      0.87        98\n",
      "           1       0.82      0.93      0.87        87\n",
      "\n",
      "    accuracy                           0.87       185\n",
      "   macro avg       0.87      0.87      0.87       185\n",
      "weighted avg       0.88      0.87      0.87       185\n",
      "\n",
      "Precision :  0.8742071881606766\n",
      "Recall :  0.8736805066854327\n",
      "Ommision Error :  0.12631949331456727\n",
      "Commission Error :  0.12579281183932345\n",
      "F1 Score :  0.8702664796633941\n",
      "Confusion Matrix : \n",
      "[[80 18]\n",
      " [ 6 81]]\n"
     ]
    },
    {
     "data": {
      "image/png": "[encoded data removed]",
      "text/plain": [
       "<Figure size 640x480 with 2 Axes>"
      ]
     },
     "metadata": {},
     "output_type": "display_data"
    }
   ],
   "source": [
    "for i , model in enumerate(models):\n",
    "    print(\"Evauation of \" + modelsNames[i])\n",
    "\n",
    "    y_pred = model.predict(X_val_features)\n",
    "\n",
    "    # accuracy\n",
    "    print(\"Accuracy : \" , accuracy_score(y_val, y_pred))\n",
    "\n",
    "    # classification report\n",
    "    print(classification_report(y_val, y_pred))\n",
    "\n",
    "    # precision\n",
    "    print(\"Precision : \" , precision_score(y_val, y_pred, average='macro'))\n",
    "    \n",
    "    # recall\n",
    "    print(\"Recall : \" , recall_score(y_val, y_pred, average='macro'))\n",
    "\n",
    "    # ommision error\n",
    "    print(\"Ommision Error : \" , 1 - recall_score(y_val, y_pred, average='macro'))\n",
    "\n",
    "    # commission error\n",
    "    print(\"Commission Error : \" , 1 - precision_score(y_val, y_pred, average='macro'))\n",
    "    \n",
    "    # f1 score\n",
    "    print(\"F1 Score : \" , f1_score(y_val, y_pred, average='macro'))\n",
    "\n",
    "    # Confusion matrix\n",
    "    cm = confusion_matrix(y_val, y_pred)\n",
    "    print(\"Confusion Matrix : \")\n",
    "    print(cm)\n",
    "    sns.heatmap(cm, annot=True, fmt='d', cmap='Blues')\n",
    "    plt.show()"
   ]
  },
  {
   "cell_type": "code",
   "execution_count": null,
   "metadata": {},
   "outputs": [],
   "source": []
  }
 ],
 "metadata": {
  "kernelspec": {
   "display_name": "Python 3",
   "language": "python",
   "name": "python3"
  },
  "language_info": {
   "codemirror_mode": {
    "name": "ipython",
    "version": 3
   },
   "file_extension": ".py",
   "mimetype": "text/x-python",
   "name": "python",
   "nbconvert_exporter": "python",
   "pygments_lexer": "ipython3",
   "version": "3.9.7"
  },
  "orig_nbformat": 4
 },
 "nbformat": 4,
 "nbformat_minor": 2
}
