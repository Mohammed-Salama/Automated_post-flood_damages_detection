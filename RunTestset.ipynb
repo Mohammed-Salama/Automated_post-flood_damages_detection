{
  "cells": [
    {
      "cell_type": "markdown",
      "metadata": {
        "id": "SnlpRxW3RzPW"
      },
      "source": [
        "## Imports"
      ]
    },
    {
      "cell_type": "code",
      "execution_count": 71,
      "metadata": {
        "id": "4Rtehdq5RzPY"
      },
      "outputs": [],
      "source": [
        "import cv2\n",
        "import os\n",
        "import numpy as np\n",
        "from tensorflow.keras.applications.resnet50 import ResNet50\n",
        "from tensorflow.keras.applications.resnet50 import preprocess_input\n",
        "from tensorflow.keras.models import load_model\n",
        "import tensorflow as tf\n",
        "import pickle"
      ]
    },
    {
      "cell_type": "markdown",
      "source": [
        "## Mount Drive"
      ],
      "metadata": {
        "id": "06WV-_Xve6JS"
      }
    },
    {
      "cell_type": "code",
      "source": [
        "from google.colab import drive\n",
        "drive.mount('/content/drive')"
      ],
      "metadata": {
        "colab": {
          "base_uri": "https://localhost:8080/"
        },
        "id": "hWT1y0mNe-Nk",
        "outputId": "21e31762-d650-4190-93f4-9b21266f67b2"
      },
      "execution_count": 72,
      "outputs": [
        {
          "output_type": "stream",
          "name": "stdout",
          "text": [
            "Drive already mounted at /content/drive; to attempt to forcibly remount, call drive.mount(\"/content/drive\", force_remount=True).\n"
          ]
        }
      ]
    },
    {
      "cell_type": "markdown",
      "metadata": {
        "id": "r1uPTfGARzPZ"
      },
      "source": [
        "## Read Data "
      ]
    },
    {
      "cell_type": "code",
      "execution_count": 76,
      "metadata": {
        "id": "z6e0kuJ8RzPZ"
      },
      "outputs": [],
      "source": [
        "def load_data(data_path):\n",
        "    data = []\n",
        "    fake_labels = []\n",
        "    for img in os.listdir(data_path):\n",
        "        img_array = cv2.imread(os.path.join(data_path, img))\n",
        "        img_array = cv2.cvtColor(img_array, cv2.COLOR_BGR2RGB)\n",
        "        img_array = cv2.resize(img_array, (224, 224))\n",
        "        data.append(img_array)\n",
        "        fake_labels.append(\"0\")\n",
        "    return data , fake_labels\n",
        "\n",
        "# Load data\n",
        "data , fake_labels = load_data(\"/content/drive/MyDrive/Test\")\n",
        "data = np.array(data)\n",
        "fake_labels = np.array(fake_labels)"
      ]
    },
    {
      "cell_type": "markdown",
      "metadata": {
        "id": "rPSqJ_LARzPZ"
      },
      "source": [
        "## Save Resized Data"
      ]
    },
    {
      "cell_type": "code",
      "execution_count": 77,
      "metadata": {
        "id": "5XzFWkFBRzPa"
      },
      "outputs": [],
      "source": [
        "# from pathlib import Path\n",
        "# import imageio\n",
        "\n",
        "\n",
        "# def save_imgs(path:Path, data):\n",
        "#     for i in range(len(data)):\n",
        "#         imageio.imsave( str( path/(str(i)+'.jpg') ), data[i])\n",
        "# os.makedirs(\"ResizedTestset/0\")\n",
        "# save_imgs(Path('./ResizedTestset/0'), data)"
      ]
    },
    {
      "cell_type": "markdown",
      "metadata": {
        "id": "Qvm-f_D8RzPa"
      },
      "source": [
        "## Read Resized Data for ResNet50"
      ]
    },
    {
      "cell_type": "code",
      "execution_count": 78,
      "metadata": {
        "id": "dnsNjSH2RzPa"
      },
      "outputs": [],
      "source": [
        "train_datagen=tf.keras.preprocessing.image.ImageDataGenerator(preprocessing_function=preprocess_input)\n",
        "TestData = train_datagen.flow(data,fake_labels,shuffle=False)"
      ]
    },
    {
      "cell_type": "markdown",
      "source": [
        "## Connect with the model in the drive"
      ],
      "metadata": {
        "id": "rEu__JqEUD_q"
      }
    },
    {
      "cell_type": "code",
      "source": [
        "! gdown \"1VQ-Ruf9ZVCZuSnGtkAYR0BZix7SfzVXa\""
      ],
      "metadata": {
        "colab": {
          "base_uri": "https://localhost:8080/"
        },
        "id": "fhCMofa0UJM0",
        "outputId": "0916e9bc-0a7b-4e47-c5e3-264342b2798a"
      },
      "execution_count": 79,
      "outputs": [
        {
          "output_type": "stream",
          "name": "stdout",
          "text": [
            "Downloading...\n",
            "From: https://drive.google.com/uc?id=1VQ-Ruf9ZVCZuSnGtkAYR0BZix7SfzVXa\n",
            "To: /content/ResNet50_final_model.h5\n",
            "100% 94.7M/94.7M [00:00<00:00, 212MB/s]\n"
          ]
        }
      ]
    },
    {
      "cell_type": "markdown",
      "metadata": {
        "id": "zs6PSzRvRzPa"
      },
      "source": [
        "## Loaing ResNet50 Model"
      ]
    },
    {
      "cell_type": "code",
      "execution_count": 80,
      "metadata": {
        "id": "Hsrv-mLKRzPa"
      },
      "outputs": [],
      "source": [
        "model = load_model(\"/content/ResNet50_final_model.h5\")"
      ]
    },
    {
      "cell_type": "markdown",
      "source": [
        "## Get Test Data in numpy array"
      ],
      "metadata": {
        "id": "iyTfdcRxYBp4"
      }
    },
    {
      "cell_type": "code",
      "execution_count": 81,
      "metadata": {
        "id": "p-DMDdooRzPb"
      },
      "outputs": [],
      "source": [
        "import numpy as np\n",
        "\n",
        "test_data = []\n",
        "\n",
        "TestData.reset()  \n",
        "\n",
        "for _ in range(len(TestData)):\n",
        "    batch_data,_ = TestData.next()\n",
        "    test_data.append(batch_data)\n",
        "\n",
        "test_data = np.concatenate(test_data)"
      ]
    },
    {
      "cell_type": "markdown",
      "source": [
        "## Test Model"
      ],
      "metadata": {
        "id": "B2gPetx8bsiC"
      }
    },
    {
      "cell_type": "code",
      "source": [
        "y_pred = model.predict(test_data)"
      ],
      "metadata": {
        "colab": {
          "base_uri": "https://localhost:8080/"
        },
        "id": "FLyVG46ia4nZ",
        "outputId": "cfb7fe27-b470-4068-d384-a64be849db88"
      },
      "execution_count": 82,
      "outputs": [
        {
          "output_type": "stream",
          "name": "stdout",
          "text": [
            "1/1 [==============================] - 6s 6s/step\n"
          ]
        }
      ]
    },
    {
      "cell_type": "markdown",
      "source": [
        "## Save results"
      ],
      "metadata": {
        "id": "QvDqSrOhcPnu"
      }
    },
    {
      "cell_type": "code",
      "source": [
        "y_pred = np.argmax(y_pred, axis=1)\n",
        "np.savetxt('Team 8.txt', y_pred, delimiter='\\n' ,fmt='%.0f')"
      ],
      "metadata": {
        "id": "yX4iciZ0cSK-"
      },
      "execution_count": 83,
      "outputs": []
    },
    {
      "cell_type": "code",
      "source": [],
      "metadata": {
        "id": "jJ4msFU0hgOw"
      },
      "execution_count": null,
      "outputs": []
    }
  ],
  "metadata": {
    "kernelspec": {
      "display_name": "Python 3",
      "language": "python",
      "name": "python3"
    },
    "language_info": {
      "codemirror_mode": {
        "name": "ipython",
        "version": 3
      },
      "file_extension": ".py",
      "mimetype": "text/x-python",
      "name": "python",
      "nbconvert_exporter": "python",
      "pygments_lexer": "ipython3",
      "version": "3.9.7"
    },
    "orig_nbformat": 4,
    "colab": {
      "provenance": []
    }
  },
  "nbformat": 4,
  "nbformat_minor": 0
}