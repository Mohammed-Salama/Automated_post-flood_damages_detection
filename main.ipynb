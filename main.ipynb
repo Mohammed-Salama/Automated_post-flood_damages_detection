{
 "cells": [
  {
   "attachments": {},
   "cell_type": "markdown",
   "metadata": {},
   "source": [
    "## Reading Data"
   ]
  },
  {
   "cell_type": "code",
   "execution_count": 1,
   "metadata": {},
   "outputs": [
    {
     "name": "stdout",
     "output_type": "stream",
     "text": [
      "922\n",
      "461\n",
      "461\n"
     ]
    }
   ],
   "source": [
    "import os\n",
    "import cv2\n",
    "\n",
    "DATADIR = \"Dataset\"\n",
    "CATEGORIES = [\"flooded\", \"non-flooded\"]\n",
    "data = []\n",
    "labels = []\n",
    "for category in CATEGORIES:\n",
    "    path = os.path.join(DATADIR, category)\n",
    "    for img in os.listdir(path):\n",
    "        img_array = cv2.imread(os.path.join(path,img))\n",
    "        data.append(img_array)\n",
    "        labels.append(CATEGORIES.index(category))\n",
    "print(len(data))\n",
    "print(labels.count(0))\n",
    "print(labels.count(1))\n"
   ]
  },
  {
   "attachments": {},
   "cell_type": "markdown",
   "metadata": {},
   "source": [
    "## Preprocessing"
   ]
  },
  {
   "cell_type": "code",
   "execution_count": 2,
   "metadata": {},
   "outputs": [
    {
     "name": "stdout",
     "output_type": "stream",
     "text": [
      "123\n",
      "152\n"
     ]
    }
   ],
   "source": [
    "import matplotlib.pyplot as plt\n",
    "\n",
    "# get min width and height\n",
    "min_width = 999999\n",
    "min_height = 999999\n",
    "for img in data:\n",
    "    height, width, channels = img.shape\n",
    "    if width < min_width:\n",
    "        min_width = width\n",
    "    if height < min_height:\n",
    "        min_height = height\n",
    "print(min_width)\n",
    "print(min_height)\n",
    "\n"
   ]
  },
  {
   "attachments": {},
   "cell_type": "markdown",
   "metadata": {},
   "source": [
    "## Features Extraction"
   ]
  },
  {
   "cell_type": "code",
   "execution_count": 3,
   "metadata": {},
   "outputs": [],
   "source": [
    "def extract_image_features(image):\n",
    "    # image = cv2.cvtColor(image, cv2.COLOR_BGR2GRAY)\n",
    "    image = cv2.resize(image, (512 , 512))\n",
    "    return image\n",
    "\n",
    "data = [extract_image_features(image) for image in data]"
   ]
  },
  {
   "attachments": {},
   "cell_type": "markdown",
   "metadata": {},
   "source": [
    "## Splitting Data"
   ]
  },
  {
   "cell_type": "code",
   "execution_count": 4,
   "metadata": {},
   "outputs": [],
   "source": [
    "from sklearn.model_selection import train_test_split\n",
    "import numpy as np\n",
    "X_train, X_val , y_train, y_val = train_test_split(data, labels, test_size=0.2, random_state=42)\n",
    "X_train = np.array(X_train)\n",
    "X_val = np.array(X_val)\n",
    "y_train = np.array(y_train)\n",
    "y_val = np.array(y_val)\n"
   ]
  },
  {
   "attachments": {},
   "cell_type": "markdown",
   "metadata": {},
   "source": [
    "## Model"
   ]
  },
  {
   "attachments": {},
   "cell_type": "markdown",
   "metadata": {},
   "source": [
    "### Model Building"
   ]
  },
  {
   "cell_type": "code",
   "execution_count": 5,
   "metadata": {},
   "outputs": [
    {
     "name": "stdout",
     "output_type": "stream",
     "text": [
      "Model: \"sequential\"\n",
      "_________________________________________________________________\n",
      " Layer (type)                Output Shape              Param #   \n",
      "=================================================================\n",
      " conv2d (Conv2D)             (None, 510, 510, 32)      896       \n",
      "                                                                 \n",
      " max_pooling2d (MaxPooling2D  (None, 255, 255, 32)     0         \n",
      " )                                                               \n",
      "                                                                 \n",
      " conv2d_1 (Conv2D)           (None, 253, 253, 64)      18496     \n",
      "                                                                 \n",
      " dropout (Dropout)           (None, 253, 253, 64)      0         \n",
      "                                                                 \n",
      " max_pooling2d_1 (MaxPooling  (None, 126, 126, 64)     0         \n",
      " 2D)                                                             \n",
      "                                                                 \n",
      " conv2d_2 (Conv2D)           (None, 124, 124, 128)     73856     \n",
      "                                                                 \n",
      " dropout_1 (Dropout)         (None, 124, 124, 128)     0         \n",
      "                                                                 \n",
      " max_pooling2d_2 (MaxPooling  (None, 62, 62, 128)      0         \n",
      " 2D)                                                             \n",
      "                                                                 \n",
      " flatten (Flatten)           (None, 492032)            0         \n",
      "                                                                 \n",
      " dense (Dense)               (None, 128)               62980224  \n",
      "                                                                 \n",
      " dense_1 (Dense)             (None, 2)                 258       \n",
      "                                                                 \n",
      "=================================================================\n",
      "Total params: 63,073,730\n",
      "Trainable params: 63,073,730\n",
      "Non-trainable params: 0\n",
      "_________________________________________________________________\n"
     ]
    }
   ],
   "source": [
    "# build the model\n",
    "\n",
    "from tensorflow.keras.models import Sequential\n",
    "from tensorflow.keras.layers import Dense, Conv2D, Flatten, MaxPooling2D, Dropout\n",
    "from tensorflow.keras.callbacks import EarlyStopping, ModelCheckpoint\n",
    "from tensorflow.keras.utils import to_categorical\n",
    "\n",
    "model = Sequential()\n",
    "model.add(Conv2D(32, kernel_size=(3, 3), activation='relu', input_shape=(512, 512, 3)))\n",
    "model.add(MaxPooling2D(pool_size=(2, 2)))\n",
    "model.add(Conv2D(64, kernel_size=(3, 3), activation='relu'))\n",
    "model.add(Dropout(0.2))\n",
    "model.add(MaxPooling2D(pool_size=(2, 2)))\n",
    "model.add(Conv2D(128, kernel_size=(3, 3), activation='relu'))\n",
    "model.add(Dropout(0.2))\n",
    "model.add(MaxPooling2D(pool_size=(2, 2)))\n",
    "model.add(Flatten())\n",
    "model.add(Dense(128, activation='relu'))\n",
    "model.add(Dense(2, activation='softmax'))\n",
    "\n",
    "model.summary()\n",
    "\n",
    "\n",
    "model.compile(loss='categorical_crossentropy', optimizer='adam', metrics=['accuracy'])"
   ]
  },
  {
   "attachments": {},
   "cell_type": "markdown",
   "metadata": {},
   "source": [
    "### Moddel Training"
   ]
  },
  {
   "cell_type": "code",
   "execution_count": 6,
   "metadata": {},
   "outputs": [
    {
     "name": "stdout",
     "output_type": "stream",
     "text": [
      "Epoch 1/20\n",
      "24/24 [==============================] - 210s 9s/step - loss: 670.1356 - accuracy: 0.5550 - val_loss: 0.6868 - val_accuracy: 0.5297\n",
      "Epoch 2/20\n",
      "24/24 [==============================] - 193s 8s/step - loss: 0.6688 - accuracy: 0.6106 - val_loss: 0.6906 - val_accuracy: 0.5297\n",
      "Epoch 3/20\n",
      "24/24 [==============================] - 191s 8s/step - loss: 0.5950 - accuracy: 0.6431 - val_loss: 0.7234 - val_accuracy: 0.5730\n",
      "Epoch 4/20\n",
      "24/24 [==============================] - 189s 8s/step - loss: 0.8572 - accuracy: 0.6798 - val_loss: 0.7904 - val_accuracy: 0.5243\n",
      "Epoch 5/20\n",
      "24/24 [==============================] - 2629s 114s/step - loss: 0.4839 - accuracy: 0.7218 - val_loss: 0.7786 - val_accuracy: 0.5189\n",
      "Epoch 6/20\n",
      "24/24 [==============================] - 200s 8s/step - loss: 0.4175 - accuracy: 0.7395 - val_loss: 1.1071 - val_accuracy: 0.4811\n",
      "Epoch 7/20\n",
      "24/24 [==============================] - 211s 9s/step - loss: 0.3231 - accuracy: 0.8005 - val_loss: 1.7316 - val_accuracy: 0.4757\n",
      "Epoch 8/20\n",
      "24/24 [==============================] - 211s 9s/step - loss: 0.3001 - accuracy: 0.8399 - val_loss: 1.8299 - val_accuracy: 0.4973\n",
      "Epoch 9/20\n",
      "24/24 [==============================] - 239s 10s/step - loss: 0.3145 - accuracy: 0.8535 - val_loss: 1.7980 - val_accuracy: 0.5189\n",
      "Epoch 10/20\n",
      "24/24 [==============================] - 248s 10s/step - loss: 0.2572 - accuracy: 0.8969 - val_loss: 2.0549 - val_accuracy: 0.5405\n",
      "Epoch 11/20\n",
      "24/24 [==============================] - 227s 9s/step - loss: 0.3977 - accuracy: 0.8480 - val_loss: 1.8448 - val_accuracy: 0.5297\n",
      "Epoch 12/20\n",
      "24/24 [==============================] - ETA: 0s - loss: 0.4813 - accuracy: 0.8019"
     ]
    }
   ],
   "source": [
    "# train the model\n",
    "\n",
    "X_train = X_train.reshape(X_train.shape[0] , 512, 512, 3)\n",
    "X_val = X_val.reshape(X_val.shape[0], 512, 512, 3)\n",
    "y_train = to_categorical(y_train)\n",
    "y_val = to_categorical(y_val)\n",
    "\n",
    "#early_stopping = EarlyStopping(monitor='val_loss', patience=5)\n",
    "model_checkpoint = ModelCheckpoint('best_model.h5', monitor='val_loss', save_best_only=True)\n",
    "\n",
    "history = model.fit(X_train, y_train, batch_size=32, epochs=20, validation_data=(X_val, y_val), callbacks=[model_checkpoint])\n"
   ]
  },
  {
   "attachments": {},
   "cell_type": "markdown",
   "metadata": {},
   "source": [
    "## Evaluation"
   ]
  },
  {
   "cell_type": "code",
   "execution_count": 18,
   "metadata": {},
   "outputs": [
    {
     "name": "stdout",
     "output_type": "stream",
     "text": [
      "6/6 [==============================] - 2s 351ms/step\n",
      "F1 score:  0.4105960264900662\n"
     ]
    },
    {
     "data": {
      "image/png": "[encoded data removed]",
      "text/plain": [
       "<Figure size 1000x700 with 2 Axes>"
      ]
     },
     "metadata": {},
     "output_type": "display_data"
    },
    {
     "data": {
      "image/png": "[encoded data removed]",
      "text/plain": [
       "<Figure size 640x480 with 1 Axes>"
      ]
     },
     "metadata": {},
     "output_type": "display_data"
    }
   ],
   "source": [
    "# Get confusion matrix , f1 score\n",
    "# Plot confusion matrix\n",
    "\n",
    "from sklearn.metrics import confusion_matrix, f1_score\n",
    "import seaborn as sns\n",
    "import pandas as pd\n",
    "\n",
    "y_pred = model.predict(X_val)\n",
    "y_pred = np.argmax(y_pred, axis=1)\n",
    "y_true = np.argmax(y_val, axis=1)\n",
    "cm = confusion_matrix(y_true, y_pred)\n",
    "\n",
    "df_cm = pd.DataFrame(cm, index = [i for i in [\"flooded\", \"non-flooded\"]],\n",
    "                    columns = [i for i in [\"flooded\", \"non-flooded\"]])\n",
    "plt.figure(figsize = (10,7))\n",
    "sns.heatmap(df_cm, annot=True, cmap=\"Blues\", fmt='g')\n",
    "plt.show()\n",
    "print(\"F1 score: \", f1_score(y_true, y_pred))\n",
    "\n",
    "# Plot accuracy and loss\n",
    "\n",
    "plt.plot(history.history['accuracy'])\n",
    "plt.plot(history.history['val_accuracy'])\n",
    "plt.title('Model Accuracy')\n",
    "plt.ylabel('Accuracy')\n",
    "plt.xlabel('Epochs')\n",
    "plt.legend(['train', 'val'], loc='upper left')\n",
    "plt.show()\n",
    "\n",
    "plt.plot(history.history['loss'])\n",
    "plt.plot(history.history['val_loss'])\n",
    "plt.title('Model Loss')\n",
    "plt.ylabel('Loss')\n",
    "plt.xlabel('Epochs')\n",
    "plt.legend(['train', 'val'], loc='upper left')\n",
    "plt.show()\n",
    "\n",
    "# Save the model\n",
    "\n",
    "model.save('model.h5')\n",
    "\n",
    "# Load the model\n",
    "\n",
    "from tensorflow.keras.models import load_model\n",
    "\n",
    "model = load_model('model.h5')\n",
    "\n",
    "\n"
   ]
  },
  {
   "cell_type": "code",
   "execution_count": null,
   "metadata": {},
   "outputs": [],
   "source": []
  }
 ],
 "metadata": {
  "kernelspec": {
   "display_name": "Python 3",
   "language": "python",
   "name": "python3"
  },
  "language_info": {
   "codemirror_mode": {
    "name": "ipython",
    "version": 3
   },
   "file_extension": ".py",
   "mimetype": "text/x-python",
   "name": "python",
   "nbconvert_exporter": "python",
   "pygments_lexer": "ipython3",
   "version": "3.9.7"
  },
  "orig_nbformat": 4
 },
 "nbformat": 4,
 "nbformat_minor": 2
}
